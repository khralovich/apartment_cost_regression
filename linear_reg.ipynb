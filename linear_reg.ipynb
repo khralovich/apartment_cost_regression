{
 "cells": [
  {
   "cell_type": "markdown",
   "metadata": {},
   "source": [
    "# Apartments costs regression models"
   ]
  },
  {
   "cell_type": "markdown",
   "metadata": {},
   "source": [
    "## Packages"
   ]
  },
  {
   "cell_type": "code",
   "execution_count": 88,
   "metadata": {},
   "outputs": [],
   "source": [
    "import pandas as pd\n",
    "import numpy as np\n",
    "import seaborn as sns\n",
    "import matplotlib.pyplot as plt\n",
    "from sklearn.linear_model import LinearRegression\n",
    "from sklearn.metrics import mean_squared_error\n",
    "from sklearn.metrics import mean_absolute_percentage_error"
   ]
  },
  {
   "cell_type": "markdown",
   "metadata": {},
   "source": [
    "## Problem statement"
   ]
  },
  {
   "cell_type": "code",
   "execution_count": null,
   "metadata": {},
   "outputs": [],
   "source": []
  },
  {
   "cell_type": "markdown",
   "metadata": {},
   "source": [
    "##  Data exploration"
   ]
  },
  {
   "cell_type": "markdown",
   "metadata": {},
   "source": [
    "### Loading"
   ]
  },
  {
   "cell_type": "code",
   "execution_count": 4,
   "metadata": {},
   "outputs": [],
   "source": [
    "# Load a dataset\n",
    "raw_data = pd.read_csv(\"apartments_pl_2023q3.csv\")"
   ]
  },
  {
   "cell_type": "markdown",
   "metadata": {},
   "source": [
    "### Exploraion"
   ]
  },
  {
   "cell_type": "code",
   "execution_count": 5,
   "metadata": {},
   "outputs": [
    {
     "data": {
      "text/plain": [
       "(19478, 27)"
      ]
     },
     "execution_count": 5,
     "metadata": {},
     "output_type": "execute_result"
    }
   ],
   "source": [
    "# Check the dataset size\n",
    "raw_data.shape"
   ]
  },
  {
   "cell_type": "code",
   "execution_count": 6,
   "metadata": {},
   "outputs": [
    {
     "data": {
      "text/plain": [
       "Index(['city', 'type', 'squareMeters', 'rooms', 'floor', 'floorCount',\n",
       "       'buildYear', 'latitude', 'longitude', 'centreDistance', 'poiCount',\n",
       "       'schoolDistance', 'clinicDistance', 'postOfficeDistance',\n",
       "       'kindergartenDistance', 'restaurantDistance', 'collegeDistance',\n",
       "       'pharmacyDistance', 'ownership', 'buildingMaterial', 'condition',\n",
       "       'hasParkingSpace', 'hasBalcony', 'hasElevator', 'hasSecurity',\n",
       "       'hasStorageRoom', 'price'],\n",
       "      dtype='object')"
      ]
     },
     "execution_count": 6,
     "metadata": {},
     "output_type": "execute_result"
    }
   ],
   "source": [
    "# Get all columns names\n",
    "raw_data.columns\n"
   ]
  },
  {
   "cell_type": "code",
   "execution_count": 7,
   "metadata": {},
   "outputs": [
    {
     "data": {
      "text/html": [
       "<div>\n",
       "<style scoped>\n",
       "    .dataframe tbody tr th:only-of-type {\n",
       "        vertical-align: middle;\n",
       "    }\n",
       "\n",
       "    .dataframe tbody tr th {\n",
       "        vertical-align: top;\n",
       "    }\n",
       "\n",
       "    .dataframe thead th {\n",
       "        text-align: right;\n",
       "    }\n",
       "</style>\n",
       "<table border=\"1\" class=\"dataframe\">\n",
       "  <thead>\n",
       "    <tr style=\"text-align: right;\">\n",
       "      <th></th>\n",
       "      <th>city</th>\n",
       "      <th>type</th>\n",
       "      <th>squareMeters</th>\n",
       "      <th>rooms</th>\n",
       "      <th>floor</th>\n",
       "      <th>floorCount</th>\n",
       "      <th>buildYear</th>\n",
       "      <th>latitude</th>\n",
       "      <th>longitude</th>\n",
       "      <th>centreDistance</th>\n",
       "      <th>...</th>\n",
       "      <th>pharmacyDistance</th>\n",
       "      <th>ownership</th>\n",
       "      <th>buildingMaterial</th>\n",
       "      <th>condition</th>\n",
       "      <th>hasParkingSpace</th>\n",
       "      <th>hasBalcony</th>\n",
       "      <th>hasElevator</th>\n",
       "      <th>hasSecurity</th>\n",
       "      <th>hasStorageRoom</th>\n",
       "      <th>price</th>\n",
       "    </tr>\n",
       "  </thead>\n",
       "  <tbody>\n",
       "    <tr>\n",
       "      <th>11384</th>\n",
       "      <td>lodz</td>\n",
       "      <td>apartmentBuilding</td>\n",
       "      <td>31.0</td>\n",
       "      <td>1.0</td>\n",
       "      <td>NaN</td>\n",
       "      <td>4.0</td>\n",
       "      <td>2014.0</td>\n",
       "      <td>51.760900</td>\n",
       "      <td>19.404100</td>\n",
       "      <td>4.17</td>\n",
       "      <td>...</td>\n",
       "      <td>1.015</td>\n",
       "      <td>condominium</td>\n",
       "      <td>brick</td>\n",
       "      <td>NaN</td>\n",
       "      <td>no</td>\n",
       "      <td>yes</td>\n",
       "      <td>yes</td>\n",
       "      <td>yes</td>\n",
       "      <td>yes</td>\n",
       "      <td>320000</td>\n",
       "    </tr>\n",
       "    <tr>\n",
       "      <th>17218</th>\n",
       "      <td>warszawa</td>\n",
       "      <td>NaN</td>\n",
       "      <td>52.6</td>\n",
       "      <td>2.0</td>\n",
       "      <td>1.0</td>\n",
       "      <td>4.0</td>\n",
       "      <td>NaN</td>\n",
       "      <td>52.214220</td>\n",
       "      <td>20.969740</td>\n",
       "      <td>3.02</td>\n",
       "      <td>...</td>\n",
       "      <td>0.035</td>\n",
       "      <td>condominium</td>\n",
       "      <td>NaN</td>\n",
       "      <td>NaN</td>\n",
       "      <td>no</td>\n",
       "      <td>no</td>\n",
       "      <td>NaN</td>\n",
       "      <td>no</td>\n",
       "      <td>no</td>\n",
       "      <td>750000</td>\n",
       "    </tr>\n",
       "    <tr>\n",
       "      <th>18920</th>\n",
       "      <td>bydgoszcz</td>\n",
       "      <td>NaN</td>\n",
       "      <td>55.0</td>\n",
       "      <td>2.0</td>\n",
       "      <td>1.0</td>\n",
       "      <td>1.0</td>\n",
       "      <td>1908.0</td>\n",
       "      <td>53.128664</td>\n",
       "      <td>17.990016</td>\n",
       "      <td>1.03</td>\n",
       "      <td>...</td>\n",
       "      <td>0.369</td>\n",
       "      <td>condominium</td>\n",
       "      <td>NaN</td>\n",
       "      <td>NaN</td>\n",
       "      <td>no</td>\n",
       "      <td>no</td>\n",
       "      <td>no</td>\n",
       "      <td>no</td>\n",
       "      <td>no</td>\n",
       "      <td>290000</td>\n",
       "    </tr>\n",
       "    <tr>\n",
       "      <th>1358</th>\n",
       "      <td>gdynia</td>\n",
       "      <td>NaN</td>\n",
       "      <td>71.7</td>\n",
       "      <td>3.0</td>\n",
       "      <td>3.0</td>\n",
       "      <td>3.0</td>\n",
       "      <td>2000.0</td>\n",
       "      <td>54.466530</td>\n",
       "      <td>18.485690</td>\n",
       "      <td>6.98</td>\n",
       "      <td>...</td>\n",
       "      <td>0.136</td>\n",
       "      <td>condominium</td>\n",
       "      <td>NaN</td>\n",
       "      <td>NaN</td>\n",
       "      <td>no</td>\n",
       "      <td>yes</td>\n",
       "      <td>no</td>\n",
       "      <td>no</td>\n",
       "      <td>no</td>\n",
       "      <td>650000</td>\n",
       "    </tr>\n",
       "    <tr>\n",
       "      <th>8523</th>\n",
       "      <td>wroclaw</td>\n",
       "      <td>blockOfFlats</td>\n",
       "      <td>49.8</td>\n",
       "      <td>2.0</td>\n",
       "      <td>1.0</td>\n",
       "      <td>3.0</td>\n",
       "      <td>2008.0</td>\n",
       "      <td>51.061300</td>\n",
       "      <td>17.079800</td>\n",
       "      <td>6.51</td>\n",
       "      <td>...</td>\n",
       "      <td>0.265</td>\n",
       "      <td>condominium</td>\n",
       "      <td>brick</td>\n",
       "      <td>NaN</td>\n",
       "      <td>yes</td>\n",
       "      <td>no</td>\n",
       "      <td>no</td>\n",
       "      <td>yes</td>\n",
       "      <td>yes</td>\n",
       "      <td>455000</td>\n",
       "    </tr>\n",
       "  </tbody>\n",
       "</table>\n",
       "<p>5 rows × 27 columns</p>\n",
       "</div>"
      ],
      "text/plain": [
       "            city               type  squareMeters  rooms  floor  floorCount  \\\n",
       "11384       lodz  apartmentBuilding          31.0    1.0    NaN         4.0   \n",
       "17218   warszawa                NaN          52.6    2.0    1.0         4.0   \n",
       "18920  bydgoszcz                NaN          55.0    2.0    1.0         1.0   \n",
       "1358      gdynia                NaN          71.7    3.0    3.0         3.0   \n",
       "8523     wroclaw       blockOfFlats          49.8    2.0    1.0         3.0   \n",
       "\n",
       "       buildYear   latitude  longitude  centreDistance  ...  pharmacyDistance  \\\n",
       "11384     2014.0  51.760900  19.404100            4.17  ...             1.015   \n",
       "17218        NaN  52.214220  20.969740            3.02  ...             0.035   \n",
       "18920     1908.0  53.128664  17.990016            1.03  ...             0.369   \n",
       "1358      2000.0  54.466530  18.485690            6.98  ...             0.136   \n",
       "8523      2008.0  51.061300  17.079800            6.51  ...             0.265   \n",
       "\n",
       "         ownership  buildingMaterial  condition  hasParkingSpace  hasBalcony  \\\n",
       "11384  condominium             brick        NaN               no         yes   \n",
       "17218  condominium               NaN        NaN               no          no   \n",
       "18920  condominium               NaN        NaN               no          no   \n",
       "1358   condominium               NaN        NaN               no         yes   \n",
       "8523   condominium             brick        NaN              yes          no   \n",
       "\n",
       "       hasElevator  hasSecurity hasStorageRoom   price  \n",
       "11384          yes          yes            yes  320000  \n",
       "17218          NaN           no             no  750000  \n",
       "18920           no           no             no  290000  \n",
       "1358            no           no             no  650000  \n",
       "8523            no          yes            yes  455000  \n",
       "\n",
       "[5 rows x 27 columns]"
      ]
     },
     "execution_count": 7,
     "metadata": {},
     "output_type": "execute_result"
    }
   ],
   "source": [
    "# Get sample data from the dataset\n",
    "raw_data.sample(5)"
   ]
  },
  {
   "cell_type": "code",
   "execution_count": 8,
   "metadata": {},
   "outputs": [
    {
     "data": {
      "text/plain": [
       "city                    0.000000\n",
       "type                    0.002097\n",
       "squareMeters            0.000000\n",
       "rooms                   0.000000\n",
       "floor                   0.001828\n",
       "floorCount              0.000137\n",
       "buildYear               0.001711\n",
       "latitude                0.000000\n",
       "longitude               0.000000\n",
       "centreDistance          0.000000\n",
       "poiCount                0.000000\n",
       "schoolDistance          0.000007\n",
       "clinicDistance          0.000045\n",
       "postOfficeDistance      0.000013\n",
       "kindergartenDistance    0.000007\n",
       "restaurantDistance      0.000030\n",
       "collegeDistance         0.000319\n",
       "pharmacyDistance        0.000014\n",
       "ownership               0.000000\n",
       "buildingMaterial        0.003897\n",
       "condition               0.007603\n",
       "hasParkingSpace         0.000000\n",
       "hasBalcony              0.000000\n",
       "hasElevator             0.000476\n",
       "hasSecurity             0.000000\n",
       "hasStorageRoom          0.000000\n",
       "price                   0.000000\n",
       "dtype: float64"
      ]
     },
     "execution_count": 8,
     "metadata": {},
     "output_type": "execute_result"
    }
   ],
   "source": [
    "# Check % of NaN in each column\n",
    "raw_data.isna().sum() /  100 / len(raw_data)"
   ]
  },
  {
   "cell_type": "markdown",
   "metadata": {},
   "source": [
    "## Data preparation"
   ]
  },
  {
   "cell_type": "markdown",
   "metadata": {},
   "source": [
    "### Data cleaning"
   ]
  },
  {
   "cell_type": "code",
   "execution_count": 60,
   "metadata": {},
   "outputs": [],
   "source": [
    "# Get only columns we are going to use to build a model\n",
    "real_estate_df = raw_data[['price','squareMeters', 'centreDistance', 'schoolDistance']]"
   ]
  },
  {
   "cell_type": "code",
   "execution_count": 61,
   "metadata": {},
   "outputs": [],
   "source": [
    "# Rename columns\n",
    "real_estate_df = real_estate_df.rename(columns={'price':'X','squareMeters':'Y_1', 'centreDistance':'Y_2', 'schoolDistance':'Y_3'})"
   ]
  },
  {
   "cell_type": "code",
   "execution_count": 62,
   "metadata": {},
   "outputs": [
    {
     "data": {
      "text/plain": [
       "\"\\nSince a linear regression won't work with null values, we may need to get rid of nulls before bulding a model.\\nReplacing NaNs with 0 won't work in this case because it will mess up the calculations. So I decided to drop rows with NaNs.\\nWe don't have a variable with a lot of missing values, but if there were such variables, I'd consider not choosing it for my model.\\n\""
      ]
     },
     "execution_count": 62,
     "metadata": {},
     "output_type": "execute_result"
    }
   ],
   "source": [
    "\"\"\"\n",
    "Since a linear regression won't work with null values, we may need to get rid of nulls before bulding a model.\n",
    "Replacing NaNs with 0 won't work in this case because it will mess up the calculations. So I decided to drop rows with NaNs.\n",
    "We don't have a variable with a lot of missing values, but if there were such variables, I'd consider not choosing it for my model.\n",
    "\"\"\""
   ]
  },
  {
   "cell_type": "code",
   "execution_count": 63,
   "metadata": {},
   "outputs": [],
   "source": [
    "# Get rid of rows with NaNs\n",
    "real_estate_df = real_estate_df.dropna()"
   ]
  },
  {
   "cell_type": "code",
   "execution_count": 64,
   "metadata": {},
   "outputs": [
    {
     "data": {
      "text/plain": [
       "X      0.0\n",
       "Y_1    0.0\n",
       "Y_2    0.0\n",
       "Y_3    0.0\n",
       "dtype: float64"
      ]
     },
     "execution_count": 64,
     "metadata": {},
     "output_type": "execute_result"
    }
   ],
   "source": [
    "# Check % of NaN after dropping\n",
    "real_estate_df.isna().sum() /  (100 / len(real_estate_df))"
   ]
  },
  {
   "cell_type": "code",
   "execution_count": 65,
   "metadata": {},
   "outputs": [
    {
     "data": {
      "text/html": [
       "<div>\n",
       "<style scoped>\n",
       "    .dataframe tbody tr th:only-of-type {\n",
       "        vertical-align: middle;\n",
       "    }\n",
       "\n",
       "    .dataframe tbody tr th {\n",
       "        vertical-align: top;\n",
       "    }\n",
       "\n",
       "    .dataframe thead th {\n",
       "        text-align: right;\n",
       "    }\n",
       "</style>\n",
       "<table border=\"1\" class=\"dataframe\">\n",
       "  <thead>\n",
       "    <tr style=\"text-align: right;\">\n",
       "      <th></th>\n",
       "      <th>X</th>\n",
       "      <th>Y_1</th>\n",
       "      <th>Y_2</th>\n",
       "      <th>Y_3</th>\n",
       "    </tr>\n",
       "  </thead>\n",
       "  <tbody>\n",
       "    <tr>\n",
       "      <th>8517</th>\n",
       "      <td>890000</td>\n",
       "      <td>53.80</td>\n",
       "      <td>7.82</td>\n",
       "      <td>1.698</td>\n",
       "    </tr>\n",
       "    <tr>\n",
       "      <th>14795</th>\n",
       "      <td>899000</td>\n",
       "      <td>54.60</td>\n",
       "      <td>8.05</td>\n",
       "      <td>0.502</td>\n",
       "    </tr>\n",
       "    <tr>\n",
       "      <th>502</th>\n",
       "      <td>369000</td>\n",
       "      <td>70.00</td>\n",
       "      <td>1.45</td>\n",
       "      <td>0.041</td>\n",
       "    </tr>\n",
       "    <tr>\n",
       "      <th>14582</th>\n",
       "      <td>670000</td>\n",
       "      <td>37.00</td>\n",
       "      <td>8.80</td>\n",
       "      <td>0.108</td>\n",
       "    </tr>\n",
       "    <tr>\n",
       "      <th>2592</th>\n",
       "      <td>899000</td>\n",
       "      <td>49.99</td>\n",
       "      <td>2.50</td>\n",
       "      <td>0.711</td>\n",
       "    </tr>\n",
       "  </tbody>\n",
       "</table>\n",
       "</div>"
      ],
      "text/plain": [
       "            X    Y_1   Y_2    Y_3\n",
       "8517   890000  53.80  7.82  1.698\n",
       "14795  899000  54.60  8.05  0.502\n",
       "502    369000  70.00  1.45  0.041\n",
       "14582  670000  37.00  8.80  0.108\n",
       "2592   899000  49.99  2.50  0.711"
      ]
     },
     "execution_count": 65,
     "metadata": {},
     "output_type": "execute_result"
    }
   ],
   "source": [
    "real_estate_df.sample(5)"
   ]
  },
  {
   "cell_type": "markdown",
   "metadata": {},
   "source": [
    "### Sampling"
   ]
  },
  {
   "cell_type": "code",
   "execution_count": 66,
   "metadata": {},
   "outputs": [],
   "source": [
    "# Use random sampling, the sample is large enough to be close to normal distribution\n",
    "real_estate_sampled = real_estate_df.sample(n=500)"
   ]
  },
  {
   "cell_type": "markdown",
   "metadata": {},
   "source": [
    "### Data vizualization"
   ]
  },
  {
   "cell_type": "code",
   "execution_count": 67,
   "metadata": {},
   "outputs": [
    {
     "data": {
      "image/png": "[encoded data removed]",
      "text/plain": [
       "<Figure size 432x288 with 1 Axes>"
      ]
     },
     "metadata": {
      "needs_background": "light"
     },
     "output_type": "display_data"
    }
   ],
   "source": [
    "# Create a scatter plot of the data. \n",
    "plt.scatter(real_estate_sampled['X'], real_estate_sampled['Y_1'], marker='x', c='r') \n",
    "\n",
    "# Set the title\n",
    "plt.title(\"Price vs. Apartment size\")\n",
    "# Set the y-axis label\n",
    "plt.ylabel('Apartment size, square meters')\n",
    "# Set the x-axis label\n",
    "plt.xlabel('Price, PLN')\n",
    "plt.show()"
   ]
  },
  {
   "cell_type": "code",
   "execution_count": 68,
   "metadata": {},
   "outputs": [
    {
     "data": {
      "image/png": "[encoded data removed]",
      "text/plain": [
       "<Figure size 432x288 with 1 Axes>"
      ]
     },
     "metadata": {
      "needs_background": "light"
     },
     "output_type": "display_data"
    }
   ],
   "source": [
    "# Create a scatter plot of the data.\n",
    "plt.scatter(real_estate_sampled['X'], real_estate_sampled['Y_2'], marker='x', c='r')\n",
    "\n",
    "# Set the title\n",
    "plt.title(\"Price vs. Center distance\")\n",
    "# Set the y-axis label\n",
    "plt.ylabel('Center distance, km')\n",
    "# Set the x-axis label\n",
    "plt.xlabel('Price, PLN')\n",
    "plt.show()"
   ]
  },
  {
   "cell_type": "code",
   "execution_count": 69,
   "metadata": {},
   "outputs": [
    {
     "data": {
      "image/png": "[encoded data removed]",
      "text/plain": [
       "<Figure size 432x288 with 1 Axes>"
      ]
     },
     "metadata": {
      "needs_background": "light"
     },
     "output_type": "display_data"
    }
   ],
   "source": [
    "# Create a scatter plot of the data.\n",
    "plt.scatter(real_estate_sampled['X'], real_estate_sampled['Y_3'], marker='x', c='r')\n",
    "\n",
    "# Set the title\n",
    "plt.title(\"Price vs. Center distance\")\n",
    "# Set the y-axis label\n",
    "plt.ylabel('Clinic distance, km')\n",
    "# Set the x-axis label\n",
    "plt.xlabel('Price, PLN')\n",
    "plt.show()"
   ]
  },
  {
   "cell_type": "markdown",
   "metadata": {},
   "source": [
    "### Feature normalization"
   ]
  },
  {
   "cell_type": "code",
   "execution_count": 70,
   "metadata": {},
   "outputs": [],
   "source": [
    "# Create a function that normalizes data to improve accurasy of the model\n",
    "def normalize(feature):\n",
    "    return (feature-np.mean(feature))/(max(feature)-min(feature))"
   ]
  },
  {
   "cell_type": "code",
   "execution_count": 71,
   "metadata": {},
   "outputs": [],
   "source": [
    "# Normalize all features\n",
    "for i in real_estate_sampled.columns:\n",
    "    real_estate_sampled[i] = normalize(real_estate_sampled[i])"
   ]
  },
  {
   "cell_type": "code",
   "execution_count": 72,
   "metadata": {},
   "outputs": [
    {
     "data": {
      "text/html": [
       "<div>\n",
       "<style scoped>\n",
       "    .dataframe tbody tr th:only-of-type {\n",
       "        vertical-align: middle;\n",
       "    }\n",
       "\n",
       "    .dataframe tbody tr th {\n",
       "        vertical-align: top;\n",
       "    }\n",
       "\n",
       "    .dataframe thead th {\n",
       "        text-align: right;\n",
       "    }\n",
       "</style>\n",
       "<table border=\"1\" class=\"dataframe\">\n",
       "  <thead>\n",
       "    <tr style=\"text-align: right;\">\n",
       "      <th></th>\n",
       "      <th>X</th>\n",
       "      <th>Y_1</th>\n",
       "      <th>Y_2</th>\n",
       "      <th>Y_3</th>\n",
       "    </tr>\n",
       "  </thead>\n",
       "  <tbody>\n",
       "    <tr>\n",
       "      <th>16332</th>\n",
       "      <td>-0.060246</td>\n",
       "      <td>-0.195303</td>\n",
       "      <td>-0.271649</td>\n",
       "      <td>-0.039208</td>\n",
       "    </tr>\n",
       "    <tr>\n",
       "      <th>16895</th>\n",
       "      <td>-0.019474</td>\n",
       "      <td>-0.170652</td>\n",
       "      <td>-0.039002</td>\n",
       "      <td>-0.057574</td>\n",
       "    </tr>\n",
       "    <tr>\n",
       "      <th>12914</th>\n",
       "      <td>0.268080</td>\n",
       "      <td>0.198288</td>\n",
       "      <td>0.050243</td>\n",
       "      <td>-0.016604</td>\n",
       "    </tr>\n",
       "  </tbody>\n",
       "</table>\n",
       "</div>"
      ],
      "text/plain": [
       "              X       Y_1       Y_2       Y_3\n",
       "16332 -0.060246 -0.195303 -0.271649 -0.039208\n",
       "16895 -0.019474 -0.170652 -0.039002 -0.057574\n",
       "12914  0.268080  0.198288  0.050243 -0.016604"
      ]
     },
     "execution_count": 72,
     "metadata": {},
     "output_type": "execute_result"
    }
   ],
   "source": [
    "real_estate_sampled.head(3)"
   ]
  },
  {
   "cell_type": "markdown",
   "metadata": {},
   "source": [
    "### Train / test split"
   ]
  },
  {
   "cell_type": "code",
   "execution_count": 73,
   "metadata": {},
   "outputs": [],
   "source": [
    "train_set = real_estate_sampled.sample(frac=0.8,random_state=200)\n",
    "test_set = real_estate_sampled.drop(train_set.index)"
   ]
  },
  {
   "cell_type": "markdown",
   "metadata": {},
   "source": [
    "## Multiple logistic regression model"
   ]
  },
  {
   "cell_type": "markdown",
   "metadata": {},
   "source": [
    "### Gradient descent"
   ]
  },
  {
   "cell_type": "code",
   "execution_count": 74,
   "metadata": {},
   "outputs": [
    {
     "name": "stdout",
     "output_type": "stream",
     "text": [
      "400\n"
     ]
    }
   ],
   "source": [
    "# Get number of training examples\n",
    "n = train_set.shape[0]\n",
    "print(n)"
   ]
  },
  {
   "cell_type": "code",
   "execution_count": 75,
   "metadata": {},
   "outputs": [],
   "source": [
    "# Set parameters for slope and intercept (zero initialization)\n",
    "w_curr = 0\n",
    "b_curr = 0\n",
    "\n",
    "# Initialize learning rate\n",
    "alpha = 0.001"
   ]
  },
  {
   "cell_type": "code",
   "execution_count": 27,
   "metadata": {},
   "outputs": [],
   "source": [
    "# Initialize the function\n",
    "def gradient_descent(x, y):\n",
    "    # Set parameters for slope and intercept (zero initialization)\n",
    "    w_curr = 0\n",
    "    b_curr = 0\n",
    "    # Initialize learning rate\n",
    "    alpha = 0.001\n",
    "    for i in range(n):\n",
    "        # prediction for X using parameters w,b (a linear regression function)\n",
    "        #f_wb = w_curr * x + b_curr\n",
    "        # cost function\n",
    "        cost = 1/(2*n)* (((w_curr * x + b_curr) - y)**2)\n",
    "        # gradient descent\n",
    "        w_temp = w_curr - alpha * diff(cost, w_curr)\n",
    "        b_temp = b_curr - alpha * diff(cost, b_curr)\n",
    "        w_curr = w_temp\n",
    "        b_curr = b_temp\n",
    "        print(\"w {}, b {}, cost {}, iteration {}\".format(w_curr, b_curr, cost, i))\n",
    "\n"
   ]
  },
  {
   "cell_type": "code",
   "execution_count": 28,
   "metadata": {},
   "outputs": [
    {
     "ename": "NameError",
     "evalue": "name 'diff' is not defined",
     "output_type": "error",
     "traceback": [
      "\u001b[0;31m---------------------------------------------------------------------------\u001b[0m",
      "\u001b[0;31mNameError\u001b[0m                                 Traceback (most recent call last)",
      "\u001b[0;32m/tmp/ipykernel_6855/2055291537.py\u001b[0m in \u001b[0;36m<module>\u001b[0;34m\u001b[0m\n\u001b[0;32m----> 1\u001b[0;31m \u001b[0mgradient_descent\u001b[0m\u001b[0;34m(\u001b[0m\u001b[0mtrain_set\u001b[0m\u001b[0;34m[\u001b[0m\u001b[0;34m'X'\u001b[0m\u001b[0;34m]\u001b[0m\u001b[0;34m,\u001b[0m \u001b[0mtrain_set\u001b[0m\u001b[0;34m[\u001b[0m\u001b[0;34m'Y_1'\u001b[0m\u001b[0;34m]\u001b[0m\u001b[0;34m)\u001b[0m\u001b[0;34m\u001b[0m\u001b[0;34m\u001b[0m\u001b[0m\n\u001b[0m",
      "\u001b[0;32m/tmp/ipykernel_6855/856181762.py\u001b[0m in \u001b[0;36mgradient_descent\u001b[0;34m(x, y)\u001b[0m\n\u001b[1;32m     12\u001b[0m         \u001b[0mcost\u001b[0m \u001b[0;34m=\u001b[0m \u001b[0;36m1\u001b[0m\u001b[0;34m/\u001b[0m\u001b[0;34m(\u001b[0m\u001b[0;36m2\u001b[0m\u001b[0;34m*\u001b[0m\u001b[0mn\u001b[0m\u001b[0;34m)\u001b[0m\u001b[0;34m*\u001b[0m \u001b[0;34m(\u001b[0m\u001b[0;34m(\u001b[0m\u001b[0;34m(\u001b[0m\u001b[0mw_curr\u001b[0m \u001b[0;34m*\u001b[0m \u001b[0mx\u001b[0m \u001b[0;34m+\u001b[0m \u001b[0mb_curr\u001b[0m\u001b[0;34m)\u001b[0m \u001b[0;34m-\u001b[0m \u001b[0my\u001b[0m\u001b[0;34m)\u001b[0m\u001b[0;34m**\u001b[0m\u001b[0;36m2\u001b[0m\u001b[0;34m)\u001b[0m\u001b[0;34m\u001b[0m\u001b[0;34m\u001b[0m\u001b[0m\n\u001b[1;32m     13\u001b[0m         \u001b[0;31m# gradient descent\u001b[0m\u001b[0;34m\u001b[0m\u001b[0;34m\u001b[0m\u001b[0;34m\u001b[0m\u001b[0m\n\u001b[0;32m---> 14\u001b[0;31m         \u001b[0mw_temp\u001b[0m \u001b[0;34m=\u001b[0m \u001b[0mw_curr\u001b[0m \u001b[0;34m-\u001b[0m \u001b[0malpha\u001b[0m \u001b[0;34m*\u001b[0m \u001b[0mdiff\u001b[0m\u001b[0;34m(\u001b[0m\u001b[0mcost\u001b[0m\u001b[0;34m,\u001b[0m \u001b[0mw_curr\u001b[0m\u001b[0;34m)\u001b[0m\u001b[0;34m\u001b[0m\u001b[0;34m\u001b[0m\u001b[0m\n\u001b[0m\u001b[1;32m     15\u001b[0m         \u001b[0mb_temp\u001b[0m \u001b[0;34m=\u001b[0m \u001b[0mb_curr\u001b[0m \u001b[0;34m-\u001b[0m \u001b[0malpha\u001b[0m \u001b[0;34m*\u001b[0m \u001b[0mdiff\u001b[0m\u001b[0;34m(\u001b[0m\u001b[0mcost\u001b[0m\u001b[0;34m,\u001b[0m \u001b[0mb_curr\u001b[0m\u001b[0;34m)\u001b[0m\u001b[0;34m\u001b[0m\u001b[0;34m\u001b[0m\u001b[0m\n\u001b[1;32m     16\u001b[0m         \u001b[0mw_curr\u001b[0m \u001b[0;34m=\u001b[0m \u001b[0mw_temp\u001b[0m\u001b[0;34m\u001b[0m\u001b[0;34m\u001b[0m\u001b[0m\n",
      "\u001b[0;31mNameError\u001b[0m: name 'diff' is not defined"
     ]
    }
   ],
   "source": [
    "gradient_descent(train_set['X'], train_set['Y_1'])"
   ]
  },
  {
   "cell_type": "code",
   "execution_count": null,
   "metadata": {},
   "outputs": [],
   "source": []
  },
  {
   "cell_type": "code",
   "execution_count": null,
   "metadata": {},
   "outputs": [],
   "source": []
  },
  {
   "cell_type": "code",
   "execution_count": null,
   "metadata": {},
   "outputs": [],
   "source": [
    "# https://towardsdatascience.com/challenge-can-i-do-linear-regression-without-sklearn-3151d8fc8aa\n",
    "# https://purnasaigudikandula.medium.com/linear-regression-in-python-with-cost-function-and-gradient-descent-bde9a8d2626#:~:text=a%20cost%20function%20is%20a,relationship%20between%20X%20and%20y.&text=here%20are%203%20error%20functions,RMSE(Root%20Mean%20Squared%20Error)\n",
    "# https://www.startertutorials.com/blog/gradient-descent-and-cost-function-in-python.html"
   ]
  },
  {
   "cell_type": "markdown",
   "metadata": {},
   "source": [
    "## Same model but with Scikit-learn"
   ]
  },
  {
   "cell_type": "code",
   "execution_count": 76,
   "metadata": {},
   "outputs": [],
   "source": [
    "x = np.array(train_set['X']).reshape((-1, 1))\n",
    "y = np.array(train_set['Y_1'])"
   ]
  },
  {
   "cell_type": "code",
   "execution_count": 90,
   "metadata": {},
   "outputs": [],
   "source": [
    "regression_model = LinearRegression().fit(x,y) \n",
    "y_pred = regression_model.predict(x)"
   ]
  },
  {
   "cell_type": "code",
   "execution_count": 91,
   "metadata": {},
   "outputs": [
    {
     "name": "stdout",
     "output_type": "stream",
     "text": [
      "coefficient of determination: 0.39333130315518716\n"
     ]
    }
   ],
   "source": [
    "r_sq = regression_model.score(x, y)\n",
    "print('coefficient of determination:', r_sq)"
   ]
  },
  {
   "cell_type": "code",
   "execution_count": 92,
   "metadata": {},
   "outputs": [
    {
     "name": "stdout",
     "output_type": "stream",
     "text": [
      "intercept: 0.0037031229639341084\n"
     ]
    }
   ],
   "source": [
    "# Print the Intercept:\n",
    "print('intercept:', regression_model.intercept_)"
   ]
  },
  {
   "cell_type": "code",
   "execution_count": 93,
   "metadata": {},
   "outputs": [
    {
     "name": "stdout",
     "output_type": "stream",
     "text": [
      "slope: [0.71454445]\n"
     ]
    }
   ],
   "source": [
    "# Print the Slope:\n",
    "print('slope:', regression_model.coef_)"
   ]
  },
  {
   "cell_type": "code",
   "execution_count": 94,
   "metadata": {},
   "outputs": [],
   "source": [
    "# Regression function\n",
    "f_wb = regression_model.coef_ * x - regression_model.intercept_"
   ]
  },
  {
   "cell_type": "code",
   "execution_count": 95,
   "metadata": {},
   "outputs": [
    {
     "data": {
      "image/png": "[encoded data removed]",
      "text/plain": [
       "<Figure size 432x288 with 1 Axes>"
      ]
     },
     "metadata": {
      "needs_background": "light"
     },
     "output_type": "display_data"
    }
   ],
   "source": [
    "# Plot the estimated linear regression line with matplotlib:\n",
    "plt.scatter(x, y)\n",
    "plt.plot(x, f_wb, 'r');\n",
    "plt.show()"
   ]
  },
  {
   "cell_type": "markdown",
   "metadata": {},
   "source": [
    "## Models validation"
   ]
  },
  {
   "cell_type": "code",
   "execution_count": null,
   "metadata": {},
   "outputs": [],
   "source": [
    "# Lets use Root Mean Squared Error (RMSE) to validate both models\n",
    "# https://statisticsbyjim.com/regression/root-mean-square-error-rmse/"
   ]
  },
  {
   "cell_type": "code",
   "execution_count": 96,
   "metadata": {},
   "outputs": [
    {
     "name": "stdout",
     "output_type": "stream",
     "text": [
      "MSE: 0.018295\n",
      "RMSE: 0.135259\n"
     ]
    }
   ],
   "source": [
    "mse = mean_squared_error(y_true=y, y_pred=y_pred, squared=True)\n",
    "rmse = mean_squared_error(y_true=y, y_pred=y_pred, squared=False)\n",
    "\n",
    "\n",
    "print('MSE: {:.6f}'.format(mse))\n",
    "print('RMSE: {:.6f}'.format(rmse))\n"
   ]
  },
  {
   "cell_type": "code",
   "execution_count": 97,
   "metadata": {},
   "outputs": [
    {
     "name": "stdout",
     "output_type": "stream",
     "text": [
      "2.399852568151766\n"
     ]
    }
   ],
   "source": [
    "# https://datagy.io/mape-python/\n",
    "print(mean_absolute_percentage_error(y, y_pred))"
   ]
  }
 ],
 "metadata": {
  "kernelspec": {
   "display_name": "Python 3",
   "language": "python",
   "name": "python3"
  },
  "language_info": {
   "codemirror_mode": {
    "name": "ipython",
    "version": 3
   },
   "file_extension": ".py",
   "mimetype": "text/x-python",
   "name": "python",
   "nbconvert_exporter": "python",
   "pygments_lexer": "ipython3",
   "version": "3.8.10"
  },
  "orig_nbformat": 4
 },
 "nbformat": 4,
 "nbformat_minor": 2
}
