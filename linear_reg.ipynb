{
 "cells": [
  {
   "cell_type": "markdown",
   "metadata": {},
   "source": [
    "# Apartments costs regression models"
   ]
  },
  {
   "cell_type": "markdown",
   "metadata": {},
   "source": [
    "## Packages"
   ]
  },
  {
   "cell_type": "code",
   "execution_count": 8,
   "metadata": {},
   "outputs": [],
   "source": [
    "import pandas as pd\n",
    "import numpy as np\n",
    "import seaborn as sns\n",
    "import matplotlib.pyplot as plt"
   ]
  },
  {
   "cell_type": "markdown",
   "metadata": {},
   "source": [
    "## Problem statement"
   ]
  },
  {
   "cell_type": "code",
   "execution_count": null,
   "metadata": {},
   "outputs": [],
   "source": []
  },
  {
   "cell_type": "markdown",
   "metadata": {},
   "source": [
    "##  Dataset"
   ]
  },
  {
   "cell_type": "markdown",
   "metadata": {},
   "source": [
    "### Loading"
   ]
  },
  {
   "cell_type": "code",
   "execution_count": 2,
   "metadata": {},
   "outputs": [],
   "source": [
    "# Load a dataset\n",
    "raw_data = pd.read_csv(\"apartments_pl_2023q3.csv\")"
   ]
  },
  {
   "cell_type": "markdown",
   "metadata": {},
   "source": [
    "### Exploraion"
   ]
  },
  {
   "cell_type": "code",
   "execution_count": 9,
   "metadata": {},
   "outputs": [
    {
     "data": {
      "text/plain": [
       "(19478, 27)"
      ]
     },
     "execution_count": 9,
     "metadata": {},
     "output_type": "execute_result"
    }
   ],
   "source": [
    "# Check the dataset size\n",
    "raw_data.shape"
   ]
  },
  {
   "cell_type": "code",
   "execution_count": 6,
   "metadata": {},
   "outputs": [
    {
     "data": {
      "text/plain": [
       "Index(['city', 'type', 'squareMeters', 'rooms', 'floor', 'floorCount',\n",
       "       'buildYear', 'latitude', 'longitude', 'centreDistance', 'poiCount',\n",
       "       'schoolDistance', 'clinicDistance', 'postOfficeDistance',\n",
       "       'kindergartenDistance', 'restaurantDistance', 'collegeDistance',\n",
       "       'pharmacyDistance', 'ownership', 'buildingMaterial', 'condition',\n",
       "       'hasParkingSpace', 'hasBalcony', 'hasElevator', 'hasSecurity',\n",
       "       'hasStorageRoom', 'price'],\n",
       "      dtype='object')"
      ]
     },
     "execution_count": 6,
     "metadata": {},
     "output_type": "execute_result"
    }
   ],
   "source": [
    "# Get all columns names\n",
    "raw_data.columns\n"
   ]
  },
  {
   "cell_type": "code",
   "execution_count": 11,
   "metadata": {},
   "outputs": [
    {
     "data": {
      "text/html": [
       "<div>\n",
       "<style scoped>\n",
       "    .dataframe tbody tr th:only-of-type {\n",
       "        vertical-align: middle;\n",
       "    }\n",
       "\n",
       "    .dataframe tbody tr th {\n",
       "        vertical-align: top;\n",
       "    }\n",
       "\n",
       "    .dataframe thead th {\n",
       "        text-align: right;\n",
       "    }\n",
       "</style>\n",
       "<table border=\"1\" class=\"dataframe\">\n",
       "  <thead>\n",
       "    <tr style=\"text-align: right;\">\n",
       "      <th></th>\n",
       "      <th>city</th>\n",
       "      <th>type</th>\n",
       "      <th>squareMeters</th>\n",
       "      <th>rooms</th>\n",
       "      <th>floor</th>\n",
       "      <th>floorCount</th>\n",
       "      <th>buildYear</th>\n",
       "      <th>latitude</th>\n",
       "      <th>longitude</th>\n",
       "      <th>centreDistance</th>\n",
       "      <th>...</th>\n",
       "      <th>pharmacyDistance</th>\n",
       "      <th>ownership</th>\n",
       "      <th>buildingMaterial</th>\n",
       "      <th>condition</th>\n",
       "      <th>hasParkingSpace</th>\n",
       "      <th>hasBalcony</th>\n",
       "      <th>hasElevator</th>\n",
       "      <th>hasSecurity</th>\n",
       "      <th>hasStorageRoom</th>\n",
       "      <th>price</th>\n",
       "    </tr>\n",
       "  </thead>\n",
       "  <tbody>\n",
       "    <tr>\n",
       "      <th>7533</th>\n",
       "      <td>gdansk</td>\n",
       "      <td>tenement</td>\n",
       "      <td>100.65</td>\n",
       "      <td>5.0</td>\n",
       "      <td>1.0</td>\n",
       "      <td>2.0</td>\n",
       "      <td>1910.0</td>\n",
       "      <td>54.381931</td>\n",
       "      <td>18.605442</td>\n",
       "      <td>4.81</td>\n",
       "      <td>...</td>\n",
       "      <td>0.162</td>\n",
       "      <td>condominium</td>\n",
       "      <td>brick</td>\n",
       "      <td>NaN</td>\n",
       "      <td>no</td>\n",
       "      <td>no</td>\n",
       "      <td>no</td>\n",
       "      <td>no</td>\n",
       "      <td>yes</td>\n",
       "      <td>829000</td>\n",
       "    </tr>\n",
       "    <tr>\n",
       "      <th>18769</th>\n",
       "      <td>bydgoszcz</td>\n",
       "      <td>NaN</td>\n",
       "      <td>35.00</td>\n",
       "      <td>2.0</td>\n",
       "      <td>2.0</td>\n",
       "      <td>4.0</td>\n",
       "      <td>NaN</td>\n",
       "      <td>53.109450</td>\n",
       "      <td>18.035340</td>\n",
       "      <td>2.70</td>\n",
       "      <td>...</td>\n",
       "      <td>0.142</td>\n",
       "      <td>condominium</td>\n",
       "      <td>NaN</td>\n",
       "      <td>NaN</td>\n",
       "      <td>no</td>\n",
       "      <td>yes</td>\n",
       "      <td>no</td>\n",
       "      <td>no</td>\n",
       "      <td>no</td>\n",
       "      <td>289000</td>\n",
       "    </tr>\n",
       "    <tr>\n",
       "      <th>13653</th>\n",
       "      <td>warszawa</td>\n",
       "      <td>blockOfFlats</td>\n",
       "      <td>76.00</td>\n",
       "      <td>4.0</td>\n",
       "      <td>6.0</td>\n",
       "      <td>7.0</td>\n",
       "      <td>1993.0</td>\n",
       "      <td>52.250600</td>\n",
       "      <td>21.039700</td>\n",
       "      <td>3.24</td>\n",
       "      <td>...</td>\n",
       "      <td>0.020</td>\n",
       "      <td>cooperative</td>\n",
       "      <td>NaN</td>\n",
       "      <td>NaN</td>\n",
       "      <td>yes</td>\n",
       "      <td>yes</td>\n",
       "      <td>yes</td>\n",
       "      <td>yes</td>\n",
       "      <td>yes</td>\n",
       "      <td>940000</td>\n",
       "    </tr>\n",
       "    <tr>\n",
       "      <th>13865</th>\n",
       "      <td>warszawa</td>\n",
       "      <td>NaN</td>\n",
       "      <td>50.00</td>\n",
       "      <td>2.0</td>\n",
       "      <td>14.0</td>\n",
       "      <td>15.0</td>\n",
       "      <td>2002.0</td>\n",
       "      <td>52.282382</td>\n",
       "      <td>21.065368</td>\n",
       "      <td>7.03</td>\n",
       "      <td>...</td>\n",
       "      <td>0.755</td>\n",
       "      <td>condominium</td>\n",
       "      <td>NaN</td>\n",
       "      <td>NaN</td>\n",
       "      <td>yes</td>\n",
       "      <td>no</td>\n",
       "      <td>yes</td>\n",
       "      <td>yes</td>\n",
       "      <td>no</td>\n",
       "      <td>679000</td>\n",
       "    </tr>\n",
       "    <tr>\n",
       "      <th>5890</th>\n",
       "      <td>gdansk</td>\n",
       "      <td>blockOfFlats</td>\n",
       "      <td>60.30</td>\n",
       "      <td>3.0</td>\n",
       "      <td>1.0</td>\n",
       "      <td>4.0</td>\n",
       "      <td>1984.0</td>\n",
       "      <td>54.338830</td>\n",
       "      <td>18.609510</td>\n",
       "      <td>3.14</td>\n",
       "      <td>...</td>\n",
       "      <td>0.249</td>\n",
       "      <td>condominium</td>\n",
       "      <td>concreteSlab</td>\n",
       "      <td>NaN</td>\n",
       "      <td>no</td>\n",
       "      <td>yes</td>\n",
       "      <td>no</td>\n",
       "      <td>no</td>\n",
       "      <td>yes</td>\n",
       "      <td>695000</td>\n",
       "    </tr>\n",
       "  </tbody>\n",
       "</table>\n",
       "<p>5 rows × 27 columns</p>\n",
       "</div>"
      ],
      "text/plain": [
       "            city          type  squareMeters  rooms  floor  floorCount  \\\n",
       "7533      gdansk      tenement        100.65    5.0    1.0         2.0   \n",
       "18769  bydgoszcz           NaN         35.00    2.0    2.0         4.0   \n",
       "13653   warszawa  blockOfFlats         76.00    4.0    6.0         7.0   \n",
       "13865   warszawa           NaN         50.00    2.0   14.0        15.0   \n",
       "5890      gdansk  blockOfFlats         60.30    3.0    1.0         4.0   \n",
       "\n",
       "       buildYear   latitude  longitude  centreDistance  ...  pharmacyDistance  \\\n",
       "7533      1910.0  54.381931  18.605442            4.81  ...             0.162   \n",
       "18769        NaN  53.109450  18.035340            2.70  ...             0.142   \n",
       "13653     1993.0  52.250600  21.039700            3.24  ...             0.020   \n",
       "13865     2002.0  52.282382  21.065368            7.03  ...             0.755   \n",
       "5890      1984.0  54.338830  18.609510            3.14  ...             0.249   \n",
       "\n",
       "         ownership  buildingMaterial  condition  hasParkingSpace  hasBalcony  \\\n",
       "7533   condominium             brick        NaN               no          no   \n",
       "18769  condominium               NaN        NaN               no         yes   \n",
       "13653  cooperative               NaN        NaN              yes         yes   \n",
       "13865  condominium               NaN        NaN              yes          no   \n",
       "5890   condominium      concreteSlab        NaN               no         yes   \n",
       "\n",
       "       hasElevator  hasSecurity hasStorageRoom   price  \n",
       "7533            no           no            yes  829000  \n",
       "18769           no           no             no  289000  \n",
       "13653          yes          yes            yes  940000  \n",
       "13865          yes          yes             no  679000  \n",
       "5890            no           no            yes  695000  \n",
       "\n",
       "[5 rows x 27 columns]"
      ]
     },
     "execution_count": 11,
     "metadata": {},
     "output_type": "execute_result"
    }
   ],
   "source": [
    "# Get sample data from the dataset\n",
    "raw_data.sample(5)"
   ]
  },
  {
   "cell_type": "code",
   "execution_count": 17,
   "metadata": {},
   "outputs": [
    {
     "data": {
      "text/plain": [
       "city                    0.000000\n",
       "type                    0.002097\n",
       "squareMeters            0.000000\n",
       "rooms                   0.000000\n",
       "floor                   0.001828\n",
       "floorCount              0.000137\n",
       "buildYear               0.001711\n",
       "latitude                0.000000\n",
       "longitude               0.000000\n",
       "centreDistance          0.000000\n",
       "poiCount                0.000000\n",
       "schoolDistance          0.000007\n",
       "clinicDistance          0.000045\n",
       "postOfficeDistance      0.000013\n",
       "kindergartenDistance    0.000007\n",
       "restaurantDistance      0.000030\n",
       "collegeDistance         0.000319\n",
       "pharmacyDistance        0.000014\n",
       "ownership               0.000000\n",
       "buildingMaterial        0.003897\n",
       "condition               0.007603\n",
       "hasParkingSpace         0.000000\n",
       "hasBalcony              0.000000\n",
       "hasElevator             0.000476\n",
       "hasSecurity             0.000000\n",
       "hasStorageRoom          0.000000\n",
       "price                   0.000000\n",
       "dtype: float64"
      ]
     },
     "execution_count": 17,
     "metadata": {},
     "output_type": "execute_result"
    }
   ],
   "source": [
    "# Check % of NaN in each column\n",
    "raw_data.isna().sum() /  100 / len(raw_data)"
   ]
  },
  {
   "cell_type": "markdown",
   "metadata": {},
   "source": [
    "## Data preparation"
   ]
  },
  {
   "cell_type": "markdown",
   "metadata": {},
   "source": [
    "### Data cleaning"
   ]
  },
  {
   "cell_type": "code",
   "execution_count": 107,
   "metadata": {},
   "outputs": [],
   "source": [
    "# Get only columns we are going to use to build a model\n",
    "real_estate_df = raw_data[['price','squareMeters', 'centreDistance']]"
   ]
  },
  {
   "cell_type": "code",
   "execution_count": null,
   "metadata": {},
   "outputs": [],
   "source": [
    "\"\"\"\n",
    "Since a linear regression won't work with null values, we may need to get rid of nulls before bulding a model.\n",
    "Replacing NaNs with 0 won't work in this case because it will mess up the calculations. So I decided to drop rows with NaNs.\n",
    "We don't have a variable with a lot of missing values, but if there were such variables, I'd consider not choosing it for my model.\n",
    "\"\"\""
   ]
  },
  {
   "cell_type": "code",
   "execution_count": 108,
   "metadata": {},
   "outputs": [],
   "source": [
    "# Get rid of rows with NaNs\n",
    "real_estate_df = real_estate_df.dropna()"
   ]
  },
  {
   "cell_type": "code",
   "execution_count": 109,
   "metadata": {},
   "outputs": [
    {
     "data": {
      "text/plain": [
       "price             0.0\n",
       "squareMeters      0.0\n",
       "centreDistance    0.0\n",
       "dtype: float64"
      ]
     },
     "execution_count": 109,
     "metadata": {},
     "output_type": "execute_result"
    }
   ],
   "source": [
    "# Check % of NaN after dropping\n",
    "real_estate_df.isna().sum() /  (100 / len(real_estate_df))"
   ]
  },
  {
   "cell_type": "code",
   "execution_count": 110,
   "metadata": {},
   "outputs": [
    {
     "data": {
      "text/plain": [
       "'\\nThe \"city\" variable has been replaced with city population taken from here: https://www.polskawliczbach.pl/najwieksze_miasta_w_polsce_pod_wzgledem_liczby_ludnosci\\n'"
      ]
     },
     "execution_count": 110,
     "metadata": {},
     "output_type": "execute_result"
    }
   ],
   "source": [
    "\"\"\"\n",
    "The \"city\" variable has been replaced with city population taken from here: https://www.polskawliczbach.pl/najwieksze_miasta_w_polsce_pod_wzgledem_liczby_ludnosci\n",
    "\"\"\""
   ]
  },
  {
   "cell_type": "code",
   "execution_count": 111,
   "metadata": {},
   "outputs": [
    {
     "data": {
      "text/html": [
       "<div>\n",
       "<style scoped>\n",
       "    .dataframe tbody tr th:only-of-type {\n",
       "        vertical-align: middle;\n",
       "    }\n",
       "\n",
       "    .dataframe tbody tr th {\n",
       "        vertical-align: top;\n",
       "    }\n",
       "\n",
       "    .dataframe thead th {\n",
       "        text-align: right;\n",
       "    }\n",
       "</style>\n",
       "<table border=\"1\" class=\"dataframe\">\n",
       "  <thead>\n",
       "    <tr style=\"text-align: right;\">\n",
       "      <th></th>\n",
       "      <th>price</th>\n",
       "      <th>squareMeters</th>\n",
       "      <th>centreDistance</th>\n",
       "    </tr>\n",
       "  </thead>\n",
       "  <tbody>\n",
       "    <tr>\n",
       "      <th>6761</th>\n",
       "      <td>649000</td>\n",
       "      <td>60.30</td>\n",
       "      <td>3.13</td>\n",
       "    </tr>\n",
       "    <tr>\n",
       "      <th>2576</th>\n",
       "      <td>650000</td>\n",
       "      <td>47.00</td>\n",
       "      <td>2.18</td>\n",
       "    </tr>\n",
       "    <tr>\n",
       "      <th>8298</th>\n",
       "      <td>590000</td>\n",
       "      <td>38.50</td>\n",
       "      <td>1.04</td>\n",
       "    </tr>\n",
       "    <tr>\n",
       "      <th>3243</th>\n",
       "      <td>668000</td>\n",
       "      <td>67.80</td>\n",
       "      <td>6.68</td>\n",
       "    </tr>\n",
       "    <tr>\n",
       "      <th>8809</th>\n",
       "      <td>390000</td>\n",
       "      <td>30.61</td>\n",
       "      <td>8.19</td>\n",
       "    </tr>\n",
       "  </tbody>\n",
       "</table>\n",
       "</div>"
      ],
      "text/plain": [
       "       price  squareMeters  centreDistance\n",
       "6761  649000         60.30            3.13\n",
       "2576  650000         47.00            2.18\n",
       "8298  590000         38.50            1.04\n",
       "3243  668000         67.80            6.68\n",
       "8809  390000         30.61            8.19"
      ]
     },
     "execution_count": 111,
     "metadata": {},
     "output_type": "execute_result"
    }
   ],
   "source": [
    "real_estate_df.sample(5)"
   ]
  },
  {
   "cell_type": "markdown",
   "metadata": {},
   "source": [
    "### Sampling"
   ]
  },
  {
   "cell_type": "code",
   "execution_count": 113,
   "metadata": {},
   "outputs": [],
   "source": [
    "real_estate_sampled = real_estate_df.sample(n=500)"
   ]
  },
  {
   "cell_type": "markdown",
   "metadata": {},
   "source": [
    "## Data vizualization"
   ]
  },
  {
   "cell_type": "code",
   "execution_count": 114,
   "metadata": {},
   "outputs": [
    {
     "data": {
      "image/png": "[encoded data removed]",
      "text/plain": [
       "<Figure size 432x288 with 1 Axes>"
      ]
     },
     "metadata": {
      "needs_background": "light"
     },
     "output_type": "display_data"
    }
   ],
   "source": [
    "# Create a scatter plot of the data. \n",
    "plt.scatter(real_estate_sampled['price'], real_estate_sampled['squareMeters'], marker='x', c='r') \n",
    "\n",
    "# Set the title\n",
    "plt.title(\"Price vs. Apartment size\")\n",
    "# Set the y-axis label\n",
    "plt.ylabel('Apartment size, square meters')\n",
    "# Set the x-axis label\n",
    "plt.xlabel('Price, PLN')\n",
    "plt.show()"
   ]
  },
  {
   "cell_type": "code",
   "execution_count": 115,
   "metadata": {},
   "outputs": [
    {
     "data": {
      "image/png": "[encoded data removed]",
      "text/plain": [
       "<Figure size 432x288 with 1 Axes>"
      ]
     },
     "metadata": {
      "needs_background": "light"
     },
     "output_type": "display_data"
    }
   ],
   "source": [
    "# Create a scatter plot of the data.\n",
    "plt.scatter(real_estate_sampled['price'], real_estate_sampled['centreDistance'], marker='x', c='r')\n",
    "\n",
    "# Set the title\n",
    "plt.title(\"Price vs. Center distance\")\n",
    "# Set the y-axis label\n",
    "plt.ylabel('Center distance, km')\n",
    "# Set the x-axis label\n",
    "plt.xlabel('Price, PLN')\n",
    "plt.show()"
   ]
  },
  {
   "cell_type": "markdown",
   "metadata": {},
   "source": [
    "## Model creation"
   ]
  },
  {
   "cell_type": "markdown",
   "metadata": {},
   "source": [
    "### Feature scaling"
   ]
  },
  {
   "cell_type": "code",
   "execution_count": null,
   "metadata": {},
   "outputs": [],
   "source": []
  },
  {
   "cell_type": "code",
   "execution_count": null,
   "metadata": {},
   "outputs": [],
   "source": []
  },
  {
   "cell_type": "markdown",
   "metadata": {},
   "source": [
    "### Compute cost"
   ]
  },
  {
   "cell_type": "code",
   "execution_count": null,
   "metadata": {},
   "outputs": [],
   "source": []
  },
  {
   "cell_type": "markdown",
   "metadata": {},
   "source": [
    "### Gradient descent"
   ]
  },
  {
   "cell_type": "code",
   "execution_count": null,
   "metadata": {},
   "outputs": [],
   "source": []
  },
  {
   "cell_type": "code",
   "execution_count": null,
   "metadata": {},
   "outputs": [],
   "source": []
  },
  {
   "cell_type": "markdown",
   "metadata": {},
   "source": [
    "### Batch gradient descent"
   ]
  },
  {
   "cell_type": "code",
   "execution_count": null,
   "metadata": {},
   "outputs": [],
   "source": []
  },
  {
   "cell_type": "code",
   "execution_count": null,
   "metadata": {},
   "outputs": [],
   "source": []
  },
  {
   "cell_type": "code",
   "execution_count": null,
   "metadata": {},
   "outputs": [],
   "source": []
  },
  {
   "cell_type": "markdown",
   "metadata": {},
   "source": [
    "## Model validation"
   ]
  },
  {
   "cell_type": "code",
   "execution_count": null,
   "metadata": {},
   "outputs": [],
   "source": []
  },
  {
   "cell_type": "code",
   "execution_count": null,
   "metadata": {},
   "outputs": [],
   "source": []
  }
 ],
 "metadata": {
  "kernelspec": {
   "display_name": "Python 3",
   "language": "python",
   "name": "python3"
  },
  "language_info": {
   "codemirror_mode": {
    "name": "ipython",
    "version": 3
   },
   "file_extension": ".py",
   "mimetype": "text/x-python",
   "name": "python",
   "nbconvert_exporter": "python",
   "pygments_lexer": "ipython3",
   "version": "3.8.10"
  },
  "orig_nbformat": 4
 },
 "nbformat": 4,
 "nbformat_minor": 2
}
