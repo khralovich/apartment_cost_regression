{
 "cells": [
  {
   "cell_type": "markdown",
   "metadata": {},
   "source": [
    "# Apartments costs regression models"
   ]
  },
  {
   "cell_type": "markdown",
   "metadata": {},
   "source": [
    "## Packages"
   ]
  },
  {
   "cell_type": "code",
   "execution_count": 9,
   "metadata": {},
   "outputs": [
    {
     "name": "stdout",
     "output_type": "stream",
     "text": [
      "Requirement already satisfied: scikit-learn in /home/nasta/.local/lib/python3.8/site-packages (1.3.0)\n",
      "Requirement already satisfied: scipy>=1.5.0 in /home/nasta/.local/lib/python3.8/site-packages (from scikit-learn) (1.10.1)\n",
      "Requirement already satisfied: numpy>=1.17.3 in /home/nasta/.local/lib/python3.8/site-packages (from scikit-learn) (1.21.2)\n",
      "Requirement already satisfied: threadpoolctl>=2.0.0 in /home/nasta/.local/lib/python3.8/site-packages (from scikit-learn) (3.2.0)\n",
      "Requirement already satisfied: joblib>=1.1.1 in /home/nasta/.local/lib/python3.8/site-packages (from scikit-learn) (1.3.1)\n"
     ]
    }
   ],
   "source": [
    "! pip install scikit-learn"
   ]
  },
  {
   "cell_type": "code",
   "execution_count": 10,
   "metadata": {},
   "outputs": [],
   "source": [
    "import pandas as pd\n",
    "import numpy as np\n",
    "import seaborn as sns\n",
    "import matplotlib.pyplot as plt\n",
    "from sklearn.linear_model import LinearRegression"
   ]
  },
  {
   "cell_type": "markdown",
   "metadata": {},
   "source": [
    "## Problem statement"
   ]
  },
  {
   "cell_type": "code",
   "execution_count": null,
   "metadata": {},
   "outputs": [],
   "source": []
  },
  {
   "cell_type": "markdown",
   "metadata": {},
   "source": [
    "##  Data exploration"
   ]
  },
  {
   "cell_type": "markdown",
   "metadata": {},
   "source": [
    "### Loading"
   ]
  },
  {
   "cell_type": "code",
   "execution_count": 11,
   "metadata": {},
   "outputs": [],
   "source": [
    "# Load a dataset\n",
    "raw_data = pd.read_csv(\"apartments_pl_2023q3.csv\")"
   ]
  },
  {
   "cell_type": "markdown",
   "metadata": {},
   "source": [
    "### Exploraion"
   ]
  },
  {
   "cell_type": "code",
   "execution_count": 12,
   "metadata": {},
   "outputs": [
    {
     "data": {
      "text/plain": [
       "(19478, 27)"
      ]
     },
     "execution_count": 12,
     "metadata": {},
     "output_type": "execute_result"
    }
   ],
   "source": [
    "# Check the dataset size\n",
    "raw_data.shape"
   ]
  },
  {
   "cell_type": "code",
   "execution_count": 13,
   "metadata": {},
   "outputs": [
    {
     "data": {
      "text/plain": [
       "Index(['city', 'type', 'squareMeters', 'rooms', 'floor', 'floorCount',\n",
       "       'buildYear', 'latitude', 'longitude', 'centreDistance', 'poiCount',\n",
       "       'schoolDistance', 'clinicDistance', 'postOfficeDistance',\n",
       "       'kindergartenDistance', 'restaurantDistance', 'collegeDistance',\n",
       "       'pharmacyDistance', 'ownership', 'buildingMaterial', 'condition',\n",
       "       'hasParkingSpace', 'hasBalcony', 'hasElevator', 'hasSecurity',\n",
       "       'hasStorageRoom', 'price'],\n",
       "      dtype='object')"
      ]
     },
     "execution_count": 13,
     "metadata": {},
     "output_type": "execute_result"
    }
   ],
   "source": [
    "# Get all columns names\n",
    "raw_data.columns\n"
   ]
  },
  {
   "cell_type": "code",
   "execution_count": 14,
   "metadata": {},
   "outputs": [
    {
     "data": {
      "text/html": [
       "<div>\n",
       "<style scoped>\n",
       "    .dataframe tbody tr th:only-of-type {\n",
       "        vertical-align: middle;\n",
       "    }\n",
       "\n",
       "    .dataframe tbody tr th {\n",
       "        vertical-align: top;\n",
       "    }\n",
       "\n",
       "    .dataframe thead th {\n",
       "        text-align: right;\n",
       "    }\n",
       "</style>\n",
       "<table border=\"1\" class=\"dataframe\">\n",
       "  <thead>\n",
       "    <tr style=\"text-align: right;\">\n",
       "      <th></th>\n",
       "      <th>city</th>\n",
       "      <th>type</th>\n",
       "      <th>squareMeters</th>\n",
       "      <th>rooms</th>\n",
       "      <th>floor</th>\n",
       "      <th>floorCount</th>\n",
       "      <th>buildYear</th>\n",
       "      <th>latitude</th>\n",
       "      <th>longitude</th>\n",
       "      <th>centreDistance</th>\n",
       "      <th>...</th>\n",
       "      <th>pharmacyDistance</th>\n",
       "      <th>ownership</th>\n",
       "      <th>buildingMaterial</th>\n",
       "      <th>condition</th>\n",
       "      <th>hasParkingSpace</th>\n",
       "      <th>hasBalcony</th>\n",
       "      <th>hasElevator</th>\n",
       "      <th>hasSecurity</th>\n",
       "      <th>hasStorageRoom</th>\n",
       "      <th>price</th>\n",
       "    </tr>\n",
       "  </thead>\n",
       "  <tbody>\n",
       "    <tr>\n",
       "      <th>1938</th>\n",
       "      <td>krakow</td>\n",
       "      <td>apartmentBuilding</td>\n",
       "      <td>51.00</td>\n",
       "      <td>2.0</td>\n",
       "      <td>1.0</td>\n",
       "      <td>5.0</td>\n",
       "      <td>2010.0</td>\n",
       "      <td>50.071434</td>\n",
       "      <td>19.939176</td>\n",
       "      <td>1.79</td>\n",
       "      <td>...</td>\n",
       "      <td>0.222</td>\n",
       "      <td>condominium</td>\n",
       "      <td>brick</td>\n",
       "      <td>NaN</td>\n",
       "      <td>yes</td>\n",
       "      <td>no</td>\n",
       "      <td>yes</td>\n",
       "      <td>no</td>\n",
       "      <td>no</td>\n",
       "      <td>790000</td>\n",
       "    </tr>\n",
       "    <tr>\n",
       "      <th>10588</th>\n",
       "      <td>lodz</td>\n",
       "      <td>NaN</td>\n",
       "      <td>28.00</td>\n",
       "      <td>1.0</td>\n",
       "      <td>9.0</td>\n",
       "      <td>9.0</td>\n",
       "      <td>1988.0</td>\n",
       "      <td>51.742412</td>\n",
       "      <td>19.494971</td>\n",
       "      <td>5.15</td>\n",
       "      <td>...</td>\n",
       "      <td>0.193</td>\n",
       "      <td>condominium</td>\n",
       "      <td>concreteSlab</td>\n",
       "      <td>premium</td>\n",
       "      <td>yes</td>\n",
       "      <td>no</td>\n",
       "      <td>yes</td>\n",
       "      <td>no</td>\n",
       "      <td>no</td>\n",
       "      <td>237000</td>\n",
       "    </tr>\n",
       "    <tr>\n",
       "      <th>16270</th>\n",
       "      <td>warszawa</td>\n",
       "      <td>blockOfFlats</td>\n",
       "      <td>39.00</td>\n",
       "      <td>2.0</td>\n",
       "      <td>10.0</td>\n",
       "      <td>10.0</td>\n",
       "      <td>1975.0</td>\n",
       "      <td>52.238315</td>\n",
       "      <td>20.972038</td>\n",
       "      <td>2.27</td>\n",
       "      <td>...</td>\n",
       "      <td>0.091</td>\n",
       "      <td>cooperative</td>\n",
       "      <td>concreteSlab</td>\n",
       "      <td>NaN</td>\n",
       "      <td>yes</td>\n",
       "      <td>yes</td>\n",
       "      <td>yes</td>\n",
       "      <td>no</td>\n",
       "      <td>yes</td>\n",
       "      <td>540000</td>\n",
       "    </tr>\n",
       "    <tr>\n",
       "      <th>7577</th>\n",
       "      <td>wroclaw</td>\n",
       "      <td>blockOfFlats</td>\n",
       "      <td>58.90</td>\n",
       "      <td>2.0</td>\n",
       "      <td>1.0</td>\n",
       "      <td>3.0</td>\n",
       "      <td>2000.0</td>\n",
       "      <td>51.078080</td>\n",
       "      <td>16.968860</td>\n",
       "      <td>5.59</td>\n",
       "      <td>...</td>\n",
       "      <td>0.351</td>\n",
       "      <td>condominium</td>\n",
       "      <td>brick</td>\n",
       "      <td>NaN</td>\n",
       "      <td>yes</td>\n",
       "      <td>no</td>\n",
       "      <td>no</td>\n",
       "      <td>no</td>\n",
       "      <td>no</td>\n",
       "      <td>499999</td>\n",
       "    </tr>\n",
       "    <tr>\n",
       "      <th>13568</th>\n",
       "      <td>warszawa</td>\n",
       "      <td>tenement</td>\n",
       "      <td>37.85</td>\n",
       "      <td>2.0</td>\n",
       "      <td>NaN</td>\n",
       "      <td>4.0</td>\n",
       "      <td>1926.0</td>\n",
       "      <td>52.220397</td>\n",
       "      <td>20.980854</td>\n",
       "      <td>1.99</td>\n",
       "      <td>...</td>\n",
       "      <td>0.187</td>\n",
       "      <td>condominium</td>\n",
       "      <td>brick</td>\n",
       "      <td>NaN</td>\n",
       "      <td>no</td>\n",
       "      <td>no</td>\n",
       "      <td>no</td>\n",
       "      <td>no</td>\n",
       "      <td>yes</td>\n",
       "      <td>740000</td>\n",
       "    </tr>\n",
       "  </tbody>\n",
       "</table>\n",
       "<p>5 rows × 27 columns</p>\n",
       "</div>"
      ],
      "text/plain": [
       "           city               type  squareMeters  rooms  floor  floorCount  \\\n",
       "1938     krakow  apartmentBuilding         51.00    2.0    1.0         5.0   \n",
       "10588      lodz                NaN         28.00    1.0    9.0         9.0   \n",
       "16270  warszawa       blockOfFlats         39.00    2.0   10.0        10.0   \n",
       "7577    wroclaw       blockOfFlats         58.90    2.0    1.0         3.0   \n",
       "13568  warszawa           tenement         37.85    2.0    NaN         4.0   \n",
       "\n",
       "       buildYear   latitude  longitude  centreDistance  ...  pharmacyDistance  \\\n",
       "1938      2010.0  50.071434  19.939176            1.79  ...             0.222   \n",
       "10588     1988.0  51.742412  19.494971            5.15  ...             0.193   \n",
       "16270     1975.0  52.238315  20.972038            2.27  ...             0.091   \n",
       "7577      2000.0  51.078080  16.968860            5.59  ...             0.351   \n",
       "13568     1926.0  52.220397  20.980854            1.99  ...             0.187   \n",
       "\n",
       "         ownership  buildingMaterial  condition  hasParkingSpace  hasBalcony  \\\n",
       "1938   condominium             brick        NaN              yes          no   \n",
       "10588  condominium      concreteSlab    premium              yes          no   \n",
       "16270  cooperative      concreteSlab        NaN              yes         yes   \n",
       "7577   condominium             brick        NaN              yes          no   \n",
       "13568  condominium             brick        NaN               no          no   \n",
       "\n",
       "       hasElevator  hasSecurity hasStorageRoom   price  \n",
       "1938           yes           no             no  790000  \n",
       "10588          yes           no             no  237000  \n",
       "16270          yes           no            yes  540000  \n",
       "7577            no           no             no  499999  \n",
       "13568           no           no            yes  740000  \n",
       "\n",
       "[5 rows x 27 columns]"
      ]
     },
     "execution_count": 14,
     "metadata": {},
     "output_type": "execute_result"
    }
   ],
   "source": [
    "# Get sample data from the dataset\n",
    "raw_data.sample(5)"
   ]
  },
  {
   "cell_type": "code",
   "execution_count": 15,
   "metadata": {},
   "outputs": [
    {
     "data": {
      "text/plain": [
       "city                    0.000000\n",
       "type                    0.002097\n",
       "squareMeters            0.000000\n",
       "rooms                   0.000000\n",
       "floor                   0.001828\n",
       "floorCount              0.000137\n",
       "buildYear               0.001711\n",
       "latitude                0.000000\n",
       "longitude               0.000000\n",
       "centreDistance          0.000000\n",
       "poiCount                0.000000\n",
       "schoolDistance          0.000007\n",
       "clinicDistance          0.000045\n",
       "postOfficeDistance      0.000013\n",
       "kindergartenDistance    0.000007\n",
       "restaurantDistance      0.000030\n",
       "collegeDistance         0.000319\n",
       "pharmacyDistance        0.000014\n",
       "ownership               0.000000\n",
       "buildingMaterial        0.003897\n",
       "condition               0.007603\n",
       "hasParkingSpace         0.000000\n",
       "hasBalcony              0.000000\n",
       "hasElevator             0.000476\n",
       "hasSecurity             0.000000\n",
       "hasStorageRoom          0.000000\n",
       "price                   0.000000\n",
       "dtype: float64"
      ]
     },
     "execution_count": 15,
     "metadata": {},
     "output_type": "execute_result"
    }
   ],
   "source": [
    "# Check % of NaN in each column\n",
    "raw_data.isna().sum() /  100 / len(raw_data)"
   ]
  },
  {
   "cell_type": "markdown",
   "metadata": {},
   "source": [
    "## Data preparation"
   ]
  },
  {
   "cell_type": "markdown",
   "metadata": {},
   "source": [
    "### Data cleaning"
   ]
  },
  {
   "cell_type": "code",
   "execution_count": 16,
   "metadata": {},
   "outputs": [],
   "source": [
    "# Get only columns we are going to use to build a model\n",
    "real_estate_df = raw_data[['price','squareMeters', 'centreDistance', 'schoolDistance', 'clinicDistance', 'kindergartenDistance']]"
   ]
  },
  {
   "cell_type": "code",
   "execution_count": 17,
   "metadata": {},
   "outputs": [],
   "source": [
    "# Rename columns\n",
    "real_estate_df = real_estate_df.rename(columns={'price':'X','squareMeters':'Y_1', 'centreDistance':'Y_2', 'schoolDistance':'Y_3', \\\n",
    "    'clinicDistance':'Y_4', 'kindergartenDistance':'Y_5'})"
   ]
  },
  {
   "cell_type": "code",
   "execution_count": 18,
   "metadata": {},
   "outputs": [
    {
     "data": {
      "text/plain": [
       "\"\\nSince a linear regression won't work with null values, we may need to get rid of nulls before bulding a model.\\nReplacing NaNs with 0 won't work in this case because it will mess up the calculations. So I decided to drop rows with NaNs.\\nWe don't have a variable with a lot of missing values, but if there were such variables, I'd consider not choosing it for my model.\\n\""
      ]
     },
     "execution_count": 18,
     "metadata": {},
     "output_type": "execute_result"
    }
   ],
   "source": [
    "\"\"\"\n",
    "Since a linear regression won't work with null values, we may need to get rid of nulls before bulding a model.\n",
    "Replacing NaNs with 0 won't work in this case because it will mess up the calculations. So I decided to drop rows with NaNs.\n",
    "We don't have a variable with a lot of missing values, but if there were such variables, I'd consider not choosing it for my model.\n",
    "\"\"\""
   ]
  },
  {
   "cell_type": "code",
   "execution_count": 19,
   "metadata": {},
   "outputs": [],
   "source": [
    "# Get rid of rows with NaNs\n",
    "real_estate_df = real_estate_df.dropna()"
   ]
  },
  {
   "cell_type": "code",
   "execution_count": 20,
   "metadata": {},
   "outputs": [
    {
     "data": {
      "text/plain": [
       "X      0.0\n",
       "Y_1    0.0\n",
       "Y_2    0.0\n",
       "Y_3    0.0\n",
       "Y_4    0.0\n",
       "Y_5    0.0\n",
       "dtype: float64"
      ]
     },
     "execution_count": 20,
     "metadata": {},
     "output_type": "execute_result"
    }
   ],
   "source": [
    "# Check % of NaN after dropping\n",
    "real_estate_df.isna().sum() /  (100 / len(real_estate_df))"
   ]
  },
  {
   "cell_type": "code",
   "execution_count": 21,
   "metadata": {},
   "outputs": [
    {
     "data": {
      "text/html": [
       "<div>\n",
       "<style scoped>\n",
       "    .dataframe tbody tr th:only-of-type {\n",
       "        vertical-align: middle;\n",
       "    }\n",
       "\n",
       "    .dataframe tbody tr th {\n",
       "        vertical-align: top;\n",
       "    }\n",
       "\n",
       "    .dataframe thead th {\n",
       "        text-align: right;\n",
       "    }\n",
       "</style>\n",
       "<table border=\"1\" class=\"dataframe\">\n",
       "  <thead>\n",
       "    <tr style=\"text-align: right;\">\n",
       "      <th></th>\n",
       "      <th>X</th>\n",
       "      <th>Y_1</th>\n",
       "      <th>Y_2</th>\n",
       "      <th>Y_3</th>\n",
       "      <th>Y_4</th>\n",
       "      <th>Y_5</th>\n",
       "    </tr>\n",
       "  </thead>\n",
       "  <tbody>\n",
       "    <tr>\n",
       "      <th>7966</th>\n",
       "      <td>727000</td>\n",
       "      <td>70.00</td>\n",
       "      <td>5.87</td>\n",
       "      <td>0.838</td>\n",
       "      <td>0.940</td>\n",
       "      <td>0.111</td>\n",
       "    </tr>\n",
       "    <tr>\n",
       "      <th>3444</th>\n",
       "      <td>480000</td>\n",
       "      <td>40.00</td>\n",
       "      <td>7.96</td>\n",
       "      <td>0.156</td>\n",
       "      <td>1.492</td>\n",
       "      <td>0.086</td>\n",
       "    </tr>\n",
       "    <tr>\n",
       "      <th>6674</th>\n",
       "      <td>1025000</td>\n",
       "      <td>68.41</td>\n",
       "      <td>5.85</td>\n",
       "      <td>0.394</td>\n",
       "      <td>0.783</td>\n",
       "      <td>0.711</td>\n",
       "    </tr>\n",
       "    <tr>\n",
       "      <th>8752</th>\n",
       "      <td>629000</td>\n",
       "      <td>60.45</td>\n",
       "      <td>0.85</td>\n",
       "      <td>0.231</td>\n",
       "      <td>0.607</td>\n",
       "      <td>0.125</td>\n",
       "    </tr>\n",
       "    <tr>\n",
       "      <th>16290</th>\n",
       "      <td>649000</td>\n",
       "      <td>30.00</td>\n",
       "      <td>4.49</td>\n",
       "      <td>0.309</td>\n",
       "      <td>0.026</td>\n",
       "      <td>0.042</td>\n",
       "    </tr>\n",
       "  </tbody>\n",
       "</table>\n",
       "</div>"
      ],
      "text/plain": [
       "             X    Y_1   Y_2    Y_3    Y_4    Y_5\n",
       "7966    727000  70.00  5.87  0.838  0.940  0.111\n",
       "3444    480000  40.00  7.96  0.156  1.492  0.086\n",
       "6674   1025000  68.41  5.85  0.394  0.783  0.711\n",
       "8752    629000  60.45  0.85  0.231  0.607  0.125\n",
       "16290   649000  30.00  4.49  0.309  0.026  0.042"
      ]
     },
     "execution_count": 21,
     "metadata": {},
     "output_type": "execute_result"
    }
   ],
   "source": [
    "real_estate_df.sample(5)"
   ]
  },
  {
   "cell_type": "markdown",
   "metadata": {},
   "source": [
    "### Sampling"
   ]
  },
  {
   "cell_type": "code",
   "execution_count": 22,
   "metadata": {},
   "outputs": [],
   "source": [
    "# Use random sampling, the sample is large enough to be close to normal distribution\n",
    "real_estate_sampled = real_estate_df.sample(n=500)"
   ]
  },
  {
   "cell_type": "markdown",
   "metadata": {},
   "source": [
    "### Data vizualization"
   ]
  },
  {
   "cell_type": "code",
   "execution_count": 23,
   "metadata": {},
   "outputs": [
    {
     "data": {
      "image/png": "[encoded data removed]",
      "text/plain": [
       "<Figure size 432x288 with 1 Axes>"
      ]
     },
     "metadata": {
      "needs_background": "light"
     },
     "output_type": "display_data"
    }
   ],
   "source": [
    "# Create a scatter plot of the data. \n",
    "plt.scatter(real_estate_sampled['X'], real_estate_sampled['Y_1'], marker='x', c='r') \n",
    "\n",
    "# Set the title\n",
    "plt.title(\"Price vs. Apartment size\")\n",
    "# Set the y-axis label\n",
    "plt.ylabel('Apartment size, square meters')\n",
    "# Set the x-axis label\n",
    "plt.xlabel('Price, PLN')\n",
    "plt.show()"
   ]
  },
  {
   "cell_type": "code",
   "execution_count": 24,
   "metadata": {},
   "outputs": [
    {
     "data": {
      "image/png": "[encoded data removed]",
      "text/plain": [
       "<Figure size 432x288 with 1 Axes>"
      ]
     },
     "metadata": {
      "needs_background": "light"
     },
     "output_type": "display_data"
    }
   ],
   "source": [
    "# Create a scatter plot of the data.\n",
    "plt.scatter(real_estate_sampled['X'], real_estate_sampled['Y_2'], marker='x', c='r')\n",
    "\n",
    "# Set the title\n",
    "plt.title(\"Price vs. Center distance\")\n",
    "# Set the y-axis label\n",
    "plt.ylabel('Center distance, km')\n",
    "# Set the x-axis label\n",
    "plt.xlabel('Price, PLN')\n",
    "plt.show()"
   ]
  },
  {
   "cell_type": "code",
   "execution_count": 25,
   "metadata": {},
   "outputs": [
    {
     "data": {
      "image/png": "[encoded data removed]",
      "text/plain": [
       "<Figure size 432x288 with 1 Axes>"
      ]
     },
     "metadata": {
      "needs_background": "light"
     },
     "output_type": "display_data"
    }
   ],
   "source": [
    "# Create a scatter plot of the data.\n",
    "plt.scatter(real_estate_sampled['X'], real_estate_sampled['Y_3'], marker='x', c='r')\n",
    "\n",
    "# Set the title\n",
    "plt.title(\"Price vs. Center distance\")\n",
    "# Set the y-axis label\n",
    "plt.ylabel('Clinic distance, km')\n",
    "# Set the x-axis label\n",
    "plt.xlabel('Price, PLN')\n",
    "plt.show()"
   ]
  },
  {
   "cell_type": "code",
   "execution_count": 26,
   "metadata": {},
   "outputs": [
    {
     "data": {
      "image/png": "[encoded data removed]",
      "text/plain": [
       "<Figure size 432x288 with 1 Axes>"
      ]
     },
     "metadata": {
      "needs_background": "light"
     },
     "output_type": "display_data"
    }
   ],
   "source": [
    "# Create a scatter plot of the data.\n",
    "plt.scatter(real_estate_sampled['X'], real_estate_sampled['Y_4'], marker='x', c='r')\n",
    "\n",
    "# Set the title\n",
    "plt.title(\"Price vs. Center distance\")\n",
    "# Set the y-axis label\n",
    "plt.ylabel('School distance, km')\n",
    "# Set the x-axis label\n",
    "plt.xlabel('Price, PLN')\n",
    "plt.show()"
   ]
  },
  {
   "cell_type": "code",
   "execution_count": 27,
   "metadata": {},
   "outputs": [
    {
     "data": {
      "image/png": "[encoded data removed]",
      "text/plain": [
       "<Figure size 432x288 with 1 Axes>"
      ]
     },
     "metadata": {
      "needs_background": "light"
     },
     "output_type": "display_data"
    }
   ],
   "source": [
    "# Create a scatter plot of the data.\n",
    "plt.scatter(real_estate_sampled['X'], real_estate_sampled['Y_5'], marker='x', c='r')\n",
    "\n",
    "# Set the title\n",
    "plt.title(\"Price vs. Center distance\")\n",
    "# Set the y-axis label\n",
    "plt.ylabel('Kindergarten distance, km')\n",
    "# Set the x-axis label\n",
    "plt.xlabel('Price, PLN')\n",
    "plt.show()"
   ]
  },
  {
   "cell_type": "markdown",
   "metadata": {},
   "source": [
    "### Feature normalization"
   ]
  },
  {
   "cell_type": "code",
   "execution_count": 28,
   "metadata": {},
   "outputs": [],
   "source": [
    "# Create a function that normalizes data to improve accurasy of the model\n",
    "def normalize(feature):\n",
    "    return (feature-np.mean(feature))/(max(feature)-min(feature))"
   ]
  },
  {
   "cell_type": "code",
   "execution_count": 29,
   "metadata": {},
   "outputs": [],
   "source": [
    "# Normalize all features\n",
    "for i in real_estate_sampled.columns:\n",
    "    real_estate_sampled[i] = normalize(real_estate_sampled[i])"
   ]
  },
  {
   "cell_type": "code",
   "execution_count": 30,
   "metadata": {},
   "outputs": [
    {
     "data": {
      "text/html": [
       "<div>\n",
       "<style scoped>\n",
       "    .dataframe tbody tr th:only-of-type {\n",
       "        vertical-align: middle;\n",
       "    }\n",
       "\n",
       "    .dataframe tbody tr th {\n",
       "        vertical-align: top;\n",
       "    }\n",
       "\n",
       "    .dataframe thead th {\n",
       "        text-align: right;\n",
       "    }\n",
       "</style>\n",
       "<table border=\"1\" class=\"dataframe\">\n",
       "  <thead>\n",
       "    <tr style=\"text-align: right;\">\n",
       "      <th></th>\n",
       "      <th>X</th>\n",
       "      <th>Y_1</th>\n",
       "      <th>Y_2</th>\n",
       "      <th>Y_3</th>\n",
       "      <th>Y_4</th>\n",
       "      <th>Y_5</th>\n",
       "    </tr>\n",
       "  </thead>\n",
       "  <tbody>\n",
       "    <tr>\n",
       "      <th>6651</th>\n",
       "      <td>0.169198</td>\n",
       "      <td>0.017428</td>\n",
       "      <td>-0.241676</td>\n",
       "      <td>-0.040156</td>\n",
       "      <td>-0.079486</td>\n",
       "      <td>-0.047122</td>\n",
       "    </tr>\n",
       "    <tr>\n",
       "      <th>278</th>\n",
       "      <td>-0.124907</td>\n",
       "      <td>0.029401</td>\n",
       "      <td>0.138312</td>\n",
       "      <td>-0.076906</td>\n",
       "      <td>0.080428</td>\n",
       "      <td>-0.066865</td>\n",
       "    </tr>\n",
       "    <tr>\n",
       "      <th>4337</th>\n",
       "      <td>-0.062651</td>\n",
       "      <td>-0.184402</td>\n",
       "      <td>0.053738</td>\n",
       "      <td>-0.011888</td>\n",
       "      <td>-0.049366</td>\n",
       "      <td>-0.028806</td>\n",
       "    </tr>\n",
       "  </tbody>\n",
       "</table>\n",
       "</div>"
      ],
      "text/plain": [
       "             X       Y_1       Y_2       Y_3       Y_4       Y_5\n",
       "6651  0.169198  0.017428 -0.241676 -0.040156 -0.079486 -0.047122\n",
       "278  -0.124907  0.029401  0.138312 -0.076906  0.080428 -0.066865\n",
       "4337 -0.062651 -0.184402  0.053738 -0.011888 -0.049366 -0.028806"
      ]
     },
     "execution_count": 30,
     "metadata": {},
     "output_type": "execute_result"
    }
   ],
   "source": [
    "real_estate_sampled.head(3)"
   ]
  },
  {
   "cell_type": "markdown",
   "metadata": {},
   "source": [
    "### Train / test split"
   ]
  },
  {
   "cell_type": "code",
   "execution_count": 32,
   "metadata": {},
   "outputs": [],
   "source": [
    "train_set = real_estate_sampled.sample(frac=0.8,random_state=200)\n",
    "test_set = real_estate_sampled.drop(train_set.index)"
   ]
  },
  {
   "cell_type": "markdown",
   "metadata": {},
   "source": [
    "## Multiple logistic regression model"
   ]
  },
  {
   "cell_type": "markdown",
   "metadata": {},
   "source": [
    "### Gradient descent"
   ]
  },
  {
   "cell_type": "code",
   "execution_count": null,
   "metadata": {},
   "outputs": [],
   "source": [
    "# Get number of training examples\n",
    "n = train_set.shape[0]\n",
    "print(n)"
   ]
  },
  {
   "cell_type": "code",
   "execution_count": null,
   "metadata": {},
   "outputs": [],
   "source": [
    "# Set parameters for slope and intercept (zero initialization)\n",
    "w_curr = 0\n",
    "b_curr = 0\n",
    "\n",
    "# Initialize learning rate\n",
    "alpha = 0.001"
   ]
  },
  {
   "cell_type": "code",
   "execution_count": null,
   "metadata": {},
   "outputs": [],
   "source": [
    "# Initialize the function\n",
    "def gradient_descent(x, y):\n",
    "    # Set parameters for slope and intercept (zero initialization)\n",
    "    w_curr = 0\n",
    "    b_curr = 0\n",
    "    # Initialize learning rate\n",
    "    alpha = 0.001\n",
    "    for i in range(n):\n",
    "        # prediction for X using parameters w,b (a linear regression function)\n",
    "        #f_wb = w_curr * x + b_curr\n",
    "        # cost function\n",
    "        cost = 1/(2*n)* (((w_curr * x + b_curr) - y)**2)\n",
    "        # gradient descent\n",
    "        w_temp = w_curr - alpha * diff(cost, w_curr)\n",
    "        b_temp = b_curr - alpha * diff(cost, b_curr)\n",
    "        w_curr = w_temp\n",
    "        b_curr = b_temp\n",
    "        print(\"w {}, b {}, cost {}, iteration {}\".format(w_curr, b_curr, cost, i))\n",
    "\n"
   ]
  },
  {
   "cell_type": "code",
   "execution_count": null,
   "metadata": {},
   "outputs": [],
   "source": [
    "gradient_descent(train_set['X'], train_set['Y_1'])"
   ]
  },
  {
   "cell_type": "code",
   "execution_count": null,
   "metadata": {},
   "outputs": [],
   "source": []
  },
  {
   "cell_type": "code",
   "execution_count": null,
   "metadata": {},
   "outputs": [],
   "source": []
  },
  {
   "cell_type": "code",
   "execution_count": null,
   "metadata": {},
   "outputs": [],
   "source": [
    "# https://towardsdatascience.com/challenge-can-i-do-linear-regression-without-sklearn-3151d8fc8aa\n",
    "# https://purnasaigudikandula.medium.com/linear-regression-in-python-with-cost-function-and-gradient-descent-bde9a8d2626#:~:text=a%20cost%20function%20is%20a,relationship%20between%20X%20and%20y.&text=here%20are%203%20error%20functions,RMSE(Root%20Mean%20Squared%20Error)\n",
    "# https://www.startertutorials.com/blog/gradient-descent-and-cost-function-in-python.html"
   ]
  },
  {
   "cell_type": "code",
   "execution_count": null,
   "metadata": {},
   "outputs": [],
   "source": []
  },
  {
   "cell_type": "code",
   "execution_count": null,
   "metadata": {},
   "outputs": [],
   "source": []
  },
  {
   "cell_type": "code",
   "execution_count": null,
   "metadata": {},
   "outputs": [],
   "source": []
  },
  {
   "cell_type": "code",
   "execution_count": null,
   "metadata": {},
   "outputs": [],
   "source": []
  },
  {
   "cell_type": "code",
   "execution_count": null,
   "metadata": {},
   "outputs": [],
   "source": []
  },
  {
   "cell_type": "markdown",
   "metadata": {},
   "source": [
    "### The cost function plot"
   ]
  },
  {
   "cell_type": "code",
   "execution_count": null,
   "metadata": {},
   "outputs": [],
   "source": []
  },
  {
   "cell_type": "code",
   "execution_count": null,
   "metadata": {},
   "outputs": [],
   "source": []
  },
  {
   "cell_type": "markdown",
   "metadata": {},
   "source": [
    "## Same model but with Scikit-learn"
   ]
  },
  {
   "cell_type": "code",
   "execution_count": 47,
   "metadata": {},
   "outputs": [],
   "source": [
    "x = np.array(train_set['X']).reshape((-1, 1))\n",
    "y = np.array(train_set['Y_1'])"
   ]
  },
  {
   "cell_type": "code",
   "execution_count": 48,
   "metadata": {},
   "outputs": [],
   "source": [
    "model = LinearRegression().fit(x,y) "
   ]
  },
  {
   "cell_type": "code",
   "execution_count": 49,
   "metadata": {},
   "outputs": [
    {
     "name": "stdout",
     "output_type": "stream",
     "text": [
      "coefficient of determination: 0.4387278372497575\n"
     ]
    }
   ],
   "source": [
    "r_sq = model.score(x, y)\n",
    "print('coefficient of determination:', r_sq)"
   ]
  },
  {
   "cell_type": "code",
   "execution_count": 50,
   "metadata": {},
   "outputs": [
    {
     "name": "stdout",
     "output_type": "stream",
     "text": [
      "intercept: -1.6473852524933382e-05\n"
     ]
    }
   ],
   "source": [
    "# Print the Intercept:\n",
    "print('intercept:', model.intercept_)"
   ]
  },
  {
   "cell_type": "code",
   "execution_count": 51,
   "metadata": {},
   "outputs": [
    {
     "name": "stdout",
     "output_type": "stream",
     "text": [
      "slope: [0.86978769]\n"
     ]
    }
   ],
   "source": [
    "# Print the Slope:\n",
    "print('slope:', model.coef_)"
   ]
  },
  {
   "cell_type": "code",
   "execution_count": 52,
   "metadata": {},
   "outputs": [],
   "source": [
    "# Model\n",
    "f_wb = 0.86978769*x -1.6473852524933382e-05"
   ]
  },
  {
   "cell_type": "code",
   "execution_count": 54,
   "metadata": {},
   "outputs": [
    {
     "data": {
      "image/png": "[encoded data removed]",
      "text/plain": [
       "<Figure size 432x288 with 1 Axes>"
      ]
     },
     "metadata": {
      "needs_background": "light"
     },
     "output_type": "display_data"
    }
   ],
   "source": [
    "# Plot the estimated linear regression line with matplotlib:\n",
    "plt.scatter(x, y)\n",
    "plt.plot(x, f_wb, 'r');\n",
    "plt.show()"
   ]
  },
  {
   "cell_type": "markdown",
   "metadata": {},
   "source": [
    "## Models validation"
   ]
  },
  {
   "cell_type": "code",
   "execution_count": null,
   "metadata": {},
   "outputs": [],
   "source": [
    "# Lets use Root Mean Squared Error (RMSE) to validate both models"
   ]
  },
  {
   "cell_type": "code",
   "execution_count": null,
   "metadata": {},
   "outputs": [],
   "source": []
  }
 ],
 "metadata": {
  "kernelspec": {
   "display_name": "Python 3",
   "language": "python",
   "name": "python3"
  },
  "language_info": {
   "codemirror_mode": {
    "name": "ipython",
    "version": 3
   },
   "file_extension": ".py",
   "mimetype": "text/x-python",
   "name": "python",
   "nbconvert_exporter": "python",
   "pygments_lexer": "ipython3",
   "version": "3.8.10"
  },
  "orig_nbformat": 4
 },
 "nbformat": 4,
 "nbformat_minor": 2
}
