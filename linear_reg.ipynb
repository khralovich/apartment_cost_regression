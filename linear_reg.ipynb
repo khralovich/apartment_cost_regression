{
 "cells": [
  {
   "cell_type": "markdown",
   "metadata": {},
   "source": [
    "# Apartments costs regression models"
   ]
  },
  {
   "cell_type": "markdown",
   "metadata": {},
   "source": [
    "## Packages"
   ]
  },
  {
   "cell_type": "code",
   "execution_count": 1,
   "metadata": {},
   "outputs": [],
   "source": [
    "import pandas as pd\n",
    "import numpy as np\n",
    "import seaborn as sns\n",
    "import matplotlib.pyplot as plt"
   ]
  },
  {
   "cell_type": "markdown",
   "metadata": {},
   "source": [
    "## Problem statement"
   ]
  },
  {
   "cell_type": "code",
   "execution_count": null,
   "metadata": {},
   "outputs": [],
   "source": []
  },
  {
   "cell_type": "markdown",
   "metadata": {},
   "source": [
    "##  Data exploration"
   ]
  },
  {
   "cell_type": "markdown",
   "metadata": {},
   "source": [
    "### Loading"
   ]
  },
  {
   "cell_type": "code",
   "execution_count": 2,
   "metadata": {},
   "outputs": [],
   "source": [
    "# Load a dataset\n",
    "raw_data = pd.read_csv(\"apartments_pl_2023q3.csv\")"
   ]
  },
  {
   "cell_type": "markdown",
   "metadata": {},
   "source": [
    "### Exploraion"
   ]
  },
  {
   "cell_type": "code",
   "execution_count": 3,
   "metadata": {},
   "outputs": [
    {
     "data": {
      "text/plain": [
       "(19478, 27)"
      ]
     },
     "execution_count": 3,
     "metadata": {},
     "output_type": "execute_result"
    }
   ],
   "source": [
    "# Check the dataset size\n",
    "raw_data.shape"
   ]
  },
  {
   "cell_type": "code",
   "execution_count": 4,
   "metadata": {},
   "outputs": [
    {
     "data": {
      "text/plain": [
       "Index(['city', 'type', 'squareMeters', 'rooms', 'floor', 'floorCount',\n",
       "       'buildYear', 'latitude', 'longitude', 'centreDistance', 'poiCount',\n",
       "       'schoolDistance', 'clinicDistance', 'postOfficeDistance',\n",
       "       'kindergartenDistance', 'restaurantDistance', 'collegeDistance',\n",
       "       'pharmacyDistance', 'ownership', 'buildingMaterial', 'condition',\n",
       "       'hasParkingSpace', 'hasBalcony', 'hasElevator', 'hasSecurity',\n",
       "       'hasStorageRoom', 'price'],\n",
       "      dtype='object')"
      ]
     },
     "execution_count": 4,
     "metadata": {},
     "output_type": "execute_result"
    }
   ],
   "source": [
    "# Get all columns names\n",
    "raw_data.columns\n"
   ]
  },
  {
   "cell_type": "code",
   "execution_count": 5,
   "metadata": {},
   "outputs": [
    {
     "data": {
      "text/html": [
       "<div>\n",
       "<style scoped>\n",
       "    .dataframe tbody tr th:only-of-type {\n",
       "        vertical-align: middle;\n",
       "    }\n",
       "\n",
       "    .dataframe tbody tr th {\n",
       "        vertical-align: top;\n",
       "    }\n",
       "\n",
       "    .dataframe thead th {\n",
       "        text-align: right;\n",
       "    }\n",
       "</style>\n",
       "<table border=\"1\" class=\"dataframe\">\n",
       "  <thead>\n",
       "    <tr style=\"text-align: right;\">\n",
       "      <th></th>\n",
       "      <th>city</th>\n",
       "      <th>type</th>\n",
       "      <th>squareMeters</th>\n",
       "      <th>rooms</th>\n",
       "      <th>floor</th>\n",
       "      <th>floorCount</th>\n",
       "      <th>buildYear</th>\n",
       "      <th>latitude</th>\n",
       "      <th>longitude</th>\n",
       "      <th>centreDistance</th>\n",
       "      <th>...</th>\n",
       "      <th>pharmacyDistance</th>\n",
       "      <th>ownership</th>\n",
       "      <th>buildingMaterial</th>\n",
       "      <th>condition</th>\n",
       "      <th>hasParkingSpace</th>\n",
       "      <th>hasBalcony</th>\n",
       "      <th>hasElevator</th>\n",
       "      <th>hasSecurity</th>\n",
       "      <th>hasStorageRoom</th>\n",
       "      <th>price</th>\n",
       "    </tr>\n",
       "  </thead>\n",
       "  <tbody>\n",
       "    <tr>\n",
       "      <th>18812</th>\n",
       "      <td>bydgoszcz</td>\n",
       "      <td>blockOfFlats</td>\n",
       "      <td>31.00</td>\n",
       "      <td>2.0</td>\n",
       "      <td>4.0</td>\n",
       "      <td>4.0</td>\n",
       "      <td>NaN</td>\n",
       "      <td>53.139854</td>\n",
       "      <td>18.025772</td>\n",
       "      <td>2.59</td>\n",
       "      <td>...</td>\n",
       "      <td>0.166</td>\n",
       "      <td>condominium</td>\n",
       "      <td>concreteSlab</td>\n",
       "      <td>NaN</td>\n",
       "      <td>no</td>\n",
       "      <td>no</td>\n",
       "      <td>no</td>\n",
       "      <td>no</td>\n",
       "      <td>yes</td>\n",
       "      <td>310000</td>\n",
       "    </tr>\n",
       "    <tr>\n",
       "      <th>17084</th>\n",
       "      <td>warszawa</td>\n",
       "      <td>blockOfFlats</td>\n",
       "      <td>62.00</td>\n",
       "      <td>3.0</td>\n",
       "      <td>3.0</td>\n",
       "      <td>4.0</td>\n",
       "      <td>1960.0</td>\n",
       "      <td>52.181037</td>\n",
       "      <td>20.976063</td>\n",
       "      <td>5.94</td>\n",
       "      <td>...</td>\n",
       "      <td>0.138</td>\n",
       "      <td>condominium</td>\n",
       "      <td>brick</td>\n",
       "      <td>premium</td>\n",
       "      <td>no</td>\n",
       "      <td>no</td>\n",
       "      <td>no</td>\n",
       "      <td>no</td>\n",
       "      <td>yes</td>\n",
       "      <td>849000</td>\n",
       "    </tr>\n",
       "    <tr>\n",
       "      <th>15540</th>\n",
       "      <td>warszawa</td>\n",
       "      <td>NaN</td>\n",
       "      <td>106.00</td>\n",
       "      <td>5.0</td>\n",
       "      <td>3.0</td>\n",
       "      <td>12.0</td>\n",
       "      <td>NaN</td>\n",
       "      <td>52.200570</td>\n",
       "      <td>21.029500</td>\n",
       "      <td>3.89</td>\n",
       "      <td>...</td>\n",
       "      <td>0.232</td>\n",
       "      <td>condominium</td>\n",
       "      <td>NaN</td>\n",
       "      <td>NaN</td>\n",
       "      <td>no</td>\n",
       "      <td>yes</td>\n",
       "      <td>yes</td>\n",
       "      <td>no</td>\n",
       "      <td>no</td>\n",
       "      <td>1630000</td>\n",
       "    </tr>\n",
       "    <tr>\n",
       "      <th>15764</th>\n",
       "      <td>warszawa</td>\n",
       "      <td>tenement</td>\n",
       "      <td>51.00</td>\n",
       "      <td>3.0</td>\n",
       "      <td>1.0</td>\n",
       "      <td>4.0</td>\n",
       "      <td>1936.0</td>\n",
       "      <td>52.259366</td>\n",
       "      <td>20.999753</td>\n",
       "      <td>3.09</td>\n",
       "      <td>...</td>\n",
       "      <td>0.520</td>\n",
       "      <td>condominium</td>\n",
       "      <td>brick</td>\n",
       "      <td>low</td>\n",
       "      <td>no</td>\n",
       "      <td>yes</td>\n",
       "      <td>no</td>\n",
       "      <td>no</td>\n",
       "      <td>no</td>\n",
       "      <td>879000</td>\n",
       "    </tr>\n",
       "    <tr>\n",
       "      <th>3194</th>\n",
       "      <td>krakow</td>\n",
       "      <td>apartmentBuilding</td>\n",
       "      <td>43.06</td>\n",
       "      <td>3.0</td>\n",
       "      <td>3.0</td>\n",
       "      <td>4.0</td>\n",
       "      <td>2023.0</td>\n",
       "      <td>50.066533</td>\n",
       "      <td>20.009691</td>\n",
       "      <td>5.24</td>\n",
       "      <td>...</td>\n",
       "      <td>0.713</td>\n",
       "      <td>condominium</td>\n",
       "      <td>brick</td>\n",
       "      <td>NaN</td>\n",
       "      <td>no</td>\n",
       "      <td>no</td>\n",
       "      <td>yes</td>\n",
       "      <td>no</td>\n",
       "      <td>no</td>\n",
       "      <td>687000</td>\n",
       "    </tr>\n",
       "  </tbody>\n",
       "</table>\n",
       "<p>5 rows × 27 columns</p>\n",
       "</div>"
      ],
      "text/plain": [
       "            city               type  squareMeters  rooms  floor  floorCount  \\\n",
       "18812  bydgoszcz       blockOfFlats         31.00    2.0    4.0         4.0   \n",
       "17084   warszawa       blockOfFlats         62.00    3.0    3.0         4.0   \n",
       "15540   warszawa                NaN        106.00    5.0    3.0        12.0   \n",
       "15764   warszawa           tenement         51.00    3.0    1.0         4.0   \n",
       "3194      krakow  apartmentBuilding         43.06    3.0    3.0         4.0   \n",
       "\n",
       "       buildYear   latitude  longitude  centreDistance  ...  pharmacyDistance  \\\n",
       "18812        NaN  53.139854  18.025772            2.59  ...             0.166   \n",
       "17084     1960.0  52.181037  20.976063            5.94  ...             0.138   \n",
       "15540        NaN  52.200570  21.029500            3.89  ...             0.232   \n",
       "15764     1936.0  52.259366  20.999753            3.09  ...             0.520   \n",
       "3194      2023.0  50.066533  20.009691            5.24  ...             0.713   \n",
       "\n",
       "         ownership  buildingMaterial  condition  hasParkingSpace  hasBalcony  \\\n",
       "18812  condominium      concreteSlab        NaN               no          no   \n",
       "17084  condominium             brick    premium               no          no   \n",
       "15540  condominium               NaN        NaN               no         yes   \n",
       "15764  condominium             brick        low               no         yes   \n",
       "3194   condominium             brick        NaN               no          no   \n",
       "\n",
       "       hasElevator  hasSecurity hasStorageRoom    price  \n",
       "18812           no           no            yes   310000  \n",
       "17084           no           no            yes   849000  \n",
       "15540          yes           no             no  1630000  \n",
       "15764           no           no             no   879000  \n",
       "3194           yes           no             no   687000  \n",
       "\n",
       "[5 rows x 27 columns]"
      ]
     },
     "execution_count": 5,
     "metadata": {},
     "output_type": "execute_result"
    }
   ],
   "source": [
    "# Get sample data from the dataset\n",
    "raw_data.sample(5)"
   ]
  },
  {
   "cell_type": "code",
   "execution_count": 6,
   "metadata": {},
   "outputs": [
    {
     "data": {
      "text/plain": [
       "city                    0.000000\n",
       "type                    0.002097\n",
       "squareMeters            0.000000\n",
       "rooms                   0.000000\n",
       "floor                   0.001828\n",
       "floorCount              0.000137\n",
       "buildYear               0.001711\n",
       "latitude                0.000000\n",
       "longitude               0.000000\n",
       "centreDistance          0.000000\n",
       "poiCount                0.000000\n",
       "schoolDistance          0.000007\n",
       "clinicDistance          0.000045\n",
       "postOfficeDistance      0.000013\n",
       "kindergartenDistance    0.000007\n",
       "restaurantDistance      0.000030\n",
       "collegeDistance         0.000319\n",
       "pharmacyDistance        0.000014\n",
       "ownership               0.000000\n",
       "buildingMaterial        0.003897\n",
       "condition               0.007603\n",
       "hasParkingSpace         0.000000\n",
       "hasBalcony              0.000000\n",
       "hasElevator             0.000476\n",
       "hasSecurity             0.000000\n",
       "hasStorageRoom          0.000000\n",
       "price                   0.000000\n",
       "dtype: float64"
      ]
     },
     "execution_count": 6,
     "metadata": {},
     "output_type": "execute_result"
    }
   ],
   "source": [
    "# Check % of NaN in each column\n",
    "raw_data.isna().sum() /  100 / len(raw_data)"
   ]
  },
  {
   "cell_type": "markdown",
   "metadata": {},
   "source": [
    "## Data preparation"
   ]
  },
  {
   "cell_type": "markdown",
   "metadata": {},
   "source": [
    "### Data cleaning"
   ]
  },
  {
   "cell_type": "code",
   "execution_count": 7,
   "metadata": {},
   "outputs": [],
   "source": [
    "# Get only columns we are going to use to build a model\n",
    "real_estate_df = raw_data[['price','squareMeters', 'centreDistance', 'schoolDistance', 'clinicDistance', 'kindergartenDistance']]"
   ]
  },
  {
   "cell_type": "code",
   "execution_count": 22,
   "metadata": {},
   "outputs": [],
   "source": [
    "# Rename columns\n",
    "real_estate_df = real_estate_df.rename(columns={'price':'X','squareMeters':'Y_1', 'centreDistance':'Y_2', 'schoolDistance':'Y_3', \\\n",
    "    'clinicDistance':'Y_4', 'kindergartenDistance':'Y_5'})"
   ]
  },
  {
   "cell_type": "code",
   "execution_count": 8,
   "metadata": {},
   "outputs": [
    {
     "data": {
      "text/plain": [
       "\"\\nSince a linear regression won't work with null values, we may need to get rid of nulls before bulding a model.\\nReplacing NaNs with 0 won't work in this case because it will mess up the calculations. So I decided to drop rows with NaNs.\\nWe don't have a variable with a lot of missing values, but if there were such variables, I'd consider not choosing it for my model.\\n\""
      ]
     },
     "execution_count": 8,
     "metadata": {},
     "output_type": "execute_result"
    }
   ],
   "source": [
    "\"\"\"\n",
    "Since a linear regression won't work with null values, we may need to get rid of nulls before bulding a model.\n",
    "Replacing NaNs with 0 won't work in this case because it will mess up the calculations. So I decided to drop rows with NaNs.\n",
    "We don't have a variable with a lot of missing values, but if there were such variables, I'd consider not choosing it for my model.\n",
    "\"\"\""
   ]
  },
  {
   "cell_type": "code",
   "execution_count": 23,
   "metadata": {},
   "outputs": [],
   "source": [
    "# Get rid of rows with NaNs\n",
    "real_estate_df = real_estate_df.dropna()"
   ]
  },
  {
   "cell_type": "code",
   "execution_count": 24,
   "metadata": {},
   "outputs": [
    {
     "data": {
      "text/plain": [
       "X      0.0\n",
       "Y_1    0.0\n",
       "Y_2    0.0\n",
       "Y_3    0.0\n",
       "Y_4    0.0\n",
       "Y_5    0.0\n",
       "dtype: float64"
      ]
     },
     "execution_count": 24,
     "metadata": {},
     "output_type": "execute_result"
    }
   ],
   "source": [
    "# Check % of NaN after dropping\n",
    "real_estate_df.isna().sum() /  (100 / len(real_estate_df))"
   ]
  },
  {
   "cell_type": "code",
   "execution_count": 25,
   "metadata": {},
   "outputs": [
    {
     "data": {
      "text/html": [
       "<div>\n",
       "<style scoped>\n",
       "    .dataframe tbody tr th:only-of-type {\n",
       "        vertical-align: middle;\n",
       "    }\n",
       "\n",
       "    .dataframe tbody tr th {\n",
       "        vertical-align: top;\n",
       "    }\n",
       "\n",
       "    .dataframe thead th {\n",
       "        text-align: right;\n",
       "    }\n",
       "</style>\n",
       "<table border=\"1\" class=\"dataframe\">\n",
       "  <thead>\n",
       "    <tr style=\"text-align: right;\">\n",
       "      <th></th>\n",
       "      <th>X</th>\n",
       "      <th>Y_1</th>\n",
       "      <th>Y_2</th>\n",
       "      <th>Y_3</th>\n",
       "      <th>Y_4</th>\n",
       "      <th>Y_5</th>\n",
       "    </tr>\n",
       "  </thead>\n",
       "  <tbody>\n",
       "    <tr>\n",
       "      <th>15844</th>\n",
       "      <td>1950000</td>\n",
       "      <td>99.51</td>\n",
       "      <td>5.47</td>\n",
       "      <td>0.541</td>\n",
       "      <td>0.266</td>\n",
       "      <td>0.299</td>\n",
       "    </tr>\n",
       "    <tr>\n",
       "      <th>19439</th>\n",
       "      <td>399900</td>\n",
       "      <td>55.30</td>\n",
       "      <td>2.59</td>\n",
       "      <td>0.143</td>\n",
       "      <td>0.326</td>\n",
       "      <td>0.333</td>\n",
       "    </tr>\n",
       "    <tr>\n",
       "      <th>14867</th>\n",
       "      <td>650000</td>\n",
       "      <td>38.00</td>\n",
       "      <td>1.08</td>\n",
       "      <td>0.167</td>\n",
       "      <td>0.088</td>\n",
       "      <td>0.263</td>\n",
       "    </tr>\n",
       "    <tr>\n",
       "      <th>3196</th>\n",
       "      <td>689000</td>\n",
       "      <td>59.38</td>\n",
       "      <td>4.83</td>\n",
       "      <td>0.431</td>\n",
       "      <td>0.640</td>\n",
       "      <td>0.571</td>\n",
       "    </tr>\n",
       "    <tr>\n",
       "      <th>12914</th>\n",
       "      <td>1350000</td>\n",
       "      <td>83.90</td>\n",
       "      <td>4.85</td>\n",
       "      <td>0.339</td>\n",
       "      <td>0.433</td>\n",
       "      <td>0.270</td>\n",
       "    </tr>\n",
       "  </tbody>\n",
       "</table>\n",
       "</div>"
      ],
      "text/plain": [
       "             X    Y_1   Y_2    Y_3    Y_4    Y_5\n",
       "15844  1950000  99.51  5.47  0.541  0.266  0.299\n",
       "19439   399900  55.30  2.59  0.143  0.326  0.333\n",
       "14867   650000  38.00  1.08  0.167  0.088  0.263\n",
       "3196    689000  59.38  4.83  0.431  0.640  0.571\n",
       "12914  1350000  83.90  4.85  0.339  0.433  0.270"
      ]
     },
     "execution_count": 25,
     "metadata": {},
     "output_type": "execute_result"
    }
   ],
   "source": [
    "real_estate_df.sample(5)"
   ]
  },
  {
   "cell_type": "markdown",
   "metadata": {},
   "source": [
    "### Sampling"
   ]
  },
  {
   "cell_type": "code",
   "execution_count": 26,
   "metadata": {},
   "outputs": [],
   "source": [
    "# Use random sampling, the sample is large enough to be close to normal distribution\n",
    "real_estate_sampled = real_estate_df.sample(n=500)"
   ]
  },
  {
   "cell_type": "markdown",
   "metadata": {},
   "source": [
    "### Data vizualization"
   ]
  },
  {
   "cell_type": "code",
   "execution_count": 27,
   "metadata": {},
   "outputs": [
    {
     "data": {
      "image/png": "[encoded data removed]",
      "text/plain": [
       "<Figure size 432x288 with 1 Axes>"
      ]
     },
     "metadata": {
      "needs_background": "light"
     },
     "output_type": "display_data"
    }
   ],
   "source": [
    "# Create a scatter plot of the data. \n",
    "plt.scatter(real_estate_sampled['X'], real_estate_sampled['Y_1'], marker='x', c='r') \n",
    "\n",
    "# Set the title\n",
    "plt.title(\"Price vs. Apartment size\")\n",
    "# Set the y-axis label\n",
    "plt.ylabel('Apartment size, square meters')\n",
    "# Set the x-axis label\n",
    "plt.xlabel('Price, PLN')\n",
    "plt.show()"
   ]
  },
  {
   "cell_type": "code",
   "execution_count": 28,
   "metadata": {},
   "outputs": [
    {
     "data": {
      "image/png": "[encoded data removed]",
      "text/plain": [
       "<Figure size 432x288 with 1 Axes>"
      ]
     },
     "metadata": {
      "needs_background": "light"
     },
     "output_type": "display_data"
    }
   ],
   "source": [
    "# Create a scatter plot of the data.\n",
    "plt.scatter(real_estate_sampled['X'], real_estate_sampled['Y_2'], marker='x', c='r')\n",
    "\n",
    "# Set the title\n",
    "plt.title(\"Price vs. Center distance\")\n",
    "# Set the y-axis label\n",
    "plt.ylabel('Center distance, km')\n",
    "# Set the x-axis label\n",
    "plt.xlabel('Price, PLN')\n",
    "plt.show()"
   ]
  },
  {
   "cell_type": "code",
   "execution_count": 29,
   "metadata": {},
   "outputs": [
    {
     "data": {
      "image/png": "[encoded data removed]",
      "text/plain": [
       "<Figure size 432x288 with 1 Axes>"
      ]
     },
     "metadata": {
      "needs_background": "light"
     },
     "output_type": "display_data"
    }
   ],
   "source": [
    "# Create a scatter plot of the data.\n",
    "plt.scatter(real_estate_sampled['X'], real_estate_sampled['Y_3'], marker='x', c='r')\n",
    "\n",
    "# Set the title\n",
    "plt.title(\"Price vs. Center distance\")\n",
    "# Set the y-axis label\n",
    "plt.ylabel('Clinic distance, km')\n",
    "# Set the x-axis label\n",
    "plt.xlabel('Price, PLN')\n",
    "plt.show()"
   ]
  },
  {
   "cell_type": "code",
   "execution_count": 30,
   "metadata": {},
   "outputs": [
    {
     "data": {
      "image/png": "[encoded data removed]",
      "text/plain": [
       "<Figure size 432x288 with 1 Axes>"
      ]
     },
     "metadata": {
      "needs_background": "light"
     },
     "output_type": "display_data"
    }
   ],
   "source": [
    "# Create a scatter plot of the data.\n",
    "plt.scatter(real_estate_sampled['X'], real_estate_sampled['Y_4'], marker='x', c='r')\n",
    "\n",
    "# Set the title\n",
    "plt.title(\"Price vs. Center distance\")\n",
    "# Set the y-axis label\n",
    "plt.ylabel('School distance, km')\n",
    "# Set the x-axis label\n",
    "plt.xlabel('Price, PLN')\n",
    "plt.show()"
   ]
  },
  {
   "cell_type": "code",
   "execution_count": 31,
   "metadata": {},
   "outputs": [
    {
     "data": {
      "image/png": "[encoded data removed]",
      "text/plain": [
       "<Figure size 432x288 with 1 Axes>"
      ]
     },
     "metadata": {
      "needs_background": "light"
     },
     "output_type": "display_data"
    }
   ],
   "source": [
    "# Create a scatter plot of the data.\n",
    "plt.scatter(real_estate_sampled['X'], real_estate_sampled['Y_5'], marker='x', c='r')\n",
    "\n",
    "# Set the title\n",
    "plt.title(\"Price vs. Center distance\")\n",
    "# Set the y-axis label\n",
    "plt.ylabel('Kindergarten distance, km')\n",
    "# Set the x-axis label\n",
    "plt.xlabel('Price, PLN')\n",
    "plt.show()"
   ]
  },
  {
   "cell_type": "markdown",
   "metadata": {},
   "source": [
    "### Feature normalization"
   ]
  },
  {
   "cell_type": "code",
   "execution_count": 18,
   "metadata": {},
   "outputs": [],
   "source": [
    "# Create a function that normalizes data to improve accurasy of the model\n",
    "def normalize(feature):\n",
    "    return (feature-np.mean(feature))/(max(feature)-min(feature))"
   ]
  },
  {
   "cell_type": "code",
   "execution_count": 19,
   "metadata": {},
   "outputs": [],
   "source": [
    "# Normalize all features\n",
    "for i in real_estate_sampled.columns:\n",
    "    real_estate_sampled[i] = normalize(real_estate_sampled[i])"
   ]
  },
  {
   "cell_type": "code",
   "execution_count": 32,
   "metadata": {},
   "outputs": [
    {
     "data": {
      "text/html": [
       "<div>\n",
       "<style scoped>\n",
       "    .dataframe tbody tr th:only-of-type {\n",
       "        vertical-align: middle;\n",
       "    }\n",
       "\n",
       "    .dataframe tbody tr th {\n",
       "        vertical-align: top;\n",
       "    }\n",
       "\n",
       "    .dataframe thead th {\n",
       "        text-align: right;\n",
       "    }\n",
       "</style>\n",
       "<table border=\"1\" class=\"dataframe\">\n",
       "  <thead>\n",
       "    <tr style=\"text-align: right;\">\n",
       "      <th></th>\n",
       "      <th>X</th>\n",
       "      <th>Y_1</th>\n",
       "      <th>Y_2</th>\n",
       "      <th>Y_3</th>\n",
       "      <th>Y_4</th>\n",
       "      <th>Y_5</th>\n",
       "    </tr>\n",
       "  </thead>\n",
       "  <tbody>\n",
       "    <tr>\n",
       "      <th>6069</th>\n",
       "      <td>578000</td>\n",
       "      <td>53.0</td>\n",
       "      <td>4.07</td>\n",
       "      <td>0.528</td>\n",
       "      <td>0.834</td>\n",
       "      <td>0.893</td>\n",
       "    </tr>\n",
       "    <tr>\n",
       "      <th>7082</th>\n",
       "      <td>1330200</td>\n",
       "      <td>147.8</td>\n",
       "      <td>1.84</td>\n",
       "      <td>0.219</td>\n",
       "      <td>0.620</td>\n",
       "      <td>0.733</td>\n",
       "    </tr>\n",
       "    <tr>\n",
       "      <th>12456</th>\n",
       "      <td>559000</td>\n",
       "      <td>72.0</td>\n",
       "      <td>2.14</td>\n",
       "      <td>0.183</td>\n",
       "      <td>0.185</td>\n",
       "      <td>0.154</td>\n",
       "    </tr>\n",
       "  </tbody>\n",
       "</table>\n",
       "</div>"
      ],
      "text/plain": [
       "             X    Y_1   Y_2    Y_3    Y_4    Y_5\n",
       "6069    578000   53.0  4.07  0.528  0.834  0.893\n",
       "7082   1330200  147.8  1.84  0.219  0.620  0.733\n",
       "12456   559000   72.0  2.14  0.183  0.185  0.154"
      ]
     },
     "execution_count": 32,
     "metadata": {},
     "output_type": "execute_result"
    }
   ],
   "source": [
    "real_estate_sampled.head(3)"
   ]
  },
  {
   "cell_type": "markdown",
   "metadata": {},
   "source": [
    "### Train / test split"
   ]
  },
  {
   "cell_type": "code",
   "execution_count": 34,
   "metadata": {},
   "outputs": [],
   "source": [
    "train_set = real_estate_sampled.sample(frac=0.8,random_state=200)\n",
    "test_set = real_estate_sampled.drop(train_set.index)"
   ]
  },
  {
   "cell_type": "markdown",
   "metadata": {},
   "source": [
    "## Multiple logistic regression model"
   ]
  },
  {
   "cell_type": "markdown",
   "metadata": {},
   "source": [
    "### Cost function"
   ]
  },
  {
   "cell_type": "code",
   "execution_count": 36,
   "metadata": {},
   "outputs": [
    {
     "name": "stdout",
     "output_type": "stream",
     "text": [
      "400\n"
     ]
    }
   ],
   "source": [
    "# Get number of training examples\n",
    "n = train_set.shape[0]\n",
    "print(n)\n"
   ]
  },
  {
   "cell_type": "code",
   "execution_count": null,
   "metadata": {},
   "outputs": [],
   "source": [
    "# https://towardsdatascience.com/challenge-can-i-do-linear-regression-without-sklearn-3151d8fc8aa\n",
    "# https://purnasaigudikandula.medium.com/linear-regression-in-python-with-cost-function-and-gradient-descent-bde9a8d2626#:~:text=a%20cost%20function%20is%20a,relationship%20between%20X%20and%20y.&text=here%20are%203%20error%20functions,RMSE(Root%20Mean%20Squared%20Error)\n",
    "# https://www.startertutorials.com/blog/gradient-descent-and-cost-function-in-python.html"
   ]
  },
  {
   "cell_type": "markdown",
   "metadata": {},
   "source": [
    "### Gradient descent function"
   ]
  },
  {
   "cell_type": "code",
   "execution_count": null,
   "metadata": {},
   "outputs": [],
   "source": [
    "\"\"\"\n",
    "Get variables for gradient descent:\n",
    "\n",
    "repeat = number of times to repeat gradient descent\n",
    "theta = a theta for each feature of X, add one more column for theta 0\n",
    "costhistory = keep the cost of each iteration of gradient descent\n",
    "\n",
    "\"\"\""
   ]
  },
  {
   "cell_type": "code",
   "execution_count": null,
   "metadata": {},
   "outputs": [],
   "source": [
    "repeat = 1000\n",
    "lrate = 0.01\n",
    "theta = np.zeros((n+1))"
   ]
  },
  {
   "cell_type": "code",
   "execution_count": null,
   "metadata": {},
   "outputs": [],
   "source": []
  },
  {
   "cell_type": "code",
   "execution_count": null,
   "metadata": {},
   "outputs": [],
   "source": []
  },
  {
   "cell_type": "code",
   "execution_count": null,
   "metadata": {},
   "outputs": [],
   "source": []
  },
  {
   "cell_type": "code",
   "execution_count": null,
   "metadata": {},
   "outputs": [],
   "source": []
  },
  {
   "cell_type": "markdown",
   "metadata": {},
   "source": [
    "### The cost function plot"
   ]
  },
  {
   "cell_type": "code",
   "execution_count": null,
   "metadata": {},
   "outputs": [],
   "source": []
  },
  {
   "cell_type": "code",
   "execution_count": null,
   "metadata": {},
   "outputs": [],
   "source": []
  },
  {
   "cell_type": "markdown",
   "metadata": {},
   "source": [
    "## Same model but with Scikit-learn"
   ]
  },
  {
   "cell_type": "code",
   "execution_count": null,
   "metadata": {},
   "outputs": [],
   "source": []
  },
  {
   "cell_type": "code",
   "execution_count": null,
   "metadata": {},
   "outputs": [],
   "source": []
  },
  {
   "cell_type": "markdown",
   "metadata": {},
   "source": [
    "## Models validation"
   ]
  },
  {
   "cell_type": "code",
   "execution_count": null,
   "metadata": {},
   "outputs": [],
   "source": [
    "# Lets use Root Mean Squared Error (RMSE) to validate both models"
   ]
  },
  {
   "cell_type": "code",
   "execution_count": null,
   "metadata": {},
   "outputs": [],
   "source": []
  }
 ],
 "metadata": {
  "kernelspec": {
   "display_name": "Python 3",
   "language": "python",
   "name": "python3"
  },
  "language_info": {
   "codemirror_mode": {
    "name": "ipython",
    "version": 3
   },
   "file_extension": ".py",
   "mimetype": "text/x-python",
   "name": "python",
   "nbconvert_exporter": "python",
   "pygments_lexer": "ipython3",
   "version": "3.8.10"
  },
  "orig_nbformat": 4
 },
 "nbformat": 4,
 "nbformat_minor": 2
}
