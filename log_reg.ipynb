{
 "cells": [
  {
   "cell_type": "code",
   "execution_count": null,
   "metadata": {},
   "outputs": [],
   "source": [
    "# Get only columns we are going to use to build a model\n",
    "real_estate_df = raw_data[['city', 'type', 'squareMeters', 'rooms', 'buildYear', 'price']]"
   ]
  },
  {
   "cell_type": "code",
   "execution_count": null,
   "metadata": {},
   "outputs": [],
   "source": [
    "# Check how many unique values this column has\n",
    "real_estate_df['type'].unique()"
   ]
  },
  {
   "cell_type": "code",
   "execution_count": null,
   "metadata": {},
   "outputs": [],
   "source": [
    "# Use one-hot encoding\n",
    "real_estate_df = pd.get_dummies(real_estate_df, columns = ['type'])"
   ]
  },
  {
   "cell_type": "code",
   "execution_count": null,
   "metadata": {},
   "outputs": [],
   "source": [
    "# Check unique values of the city variable\n",
    "real_estate_df['city'].unique()"
   ]
  },
  {
   "cell_type": "code",
   "execution_count": null,
   "metadata": {},
   "outputs": [],
   "source": [
    "# Create a dictionary with cities population\n",
    "cities_population_dict = {'szczecin':391566, 'gdynia':242874,\n",
    "       'krakow':803282, 'poznan':541316, 'bialystok':292600 ,\n",
    "       'wroclaw':674079 , 'radom':197848, 'rzeszow':197181 , 'lodz':658444,\n",
    "       'katowice':280190, 'lublin':331243, 'gdansk':486345 ,\n",
    "       'czestochowa':208282 , 'warszawa':1861975, 'bydgoszcz':330038}"
   ]
  },
  {
   "cell_type": "code",
   "execution_count": null,
   "metadata": {},
   "outputs": [],
   "source": [
    "# Create a new column, then drop the city column\n",
    "real_estate_df['city_population'] = real_estate_df['city'].map(cities_population_dict)\n",
    "real_estate_df = real_estate_df.drop(columns=['city'])"
   ]
  },
  {
   "cell_type": "code",
   "execution_count": null,
   "metadata": {},
   "outputs": [],
   "source": []
  },
  {
   "cell_type": "code",
   "execution_count": null,
   "metadata": {},
   "outputs": [],
   "source": [
    "real_estate_df.sample(5)"
   ]
  },
  {
   "cell_type": "code",
   "execution_count": null,
   "metadata": {},
   "outputs": [],
   "source": [
    "\"\"\"\n",
    "The \"city\" variable has been replaced with city population taken from here: https://www.polskawliczbach.pl/najwieksze_miasta_w_polsce_pod_wzgledem_liczby_ludnosci\n",
    "\"\"\""
   ]
  },
  {
   "cell_type": "code",
   "execution_count": null,
   "metadata": {},
   "outputs": [],
   "source": []
  }
 ],
 "metadata": {
  "language_info": {
   "name": "python"
  },
  "orig_nbformat": 4
 },
 "nbformat": 4,
 "nbformat_minor": 2
}
